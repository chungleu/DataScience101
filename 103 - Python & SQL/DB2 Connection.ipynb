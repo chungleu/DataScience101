{
 "cells": [
  {
   "cell_type": "code",
   "execution_count": 7,
   "metadata": {},
   "outputs": [],
   "source": [
    "import ibm_db\n",
    "import ibm_db_dbi\n",
    "import pandas as pd"
   ]
  },
  {
   "cell_type": "code",
   "execution_count": 19,
   "metadata": {},
   "outputs": [
    {
     "ename": "Exception",
     "evalue": "[IBM][CLI Driver] SQL1042C  An unexpected system error occurred.  SQLSTATE=58004 SQLCODE=-1042",
     "output_type": "error",
     "traceback": [
      "\u001b[0;31m---------------------------------------------------------------------------\u001b[0m",
      "\u001b[0;31mException\u001b[0m                                 Traceback (most recent call last)",
      "\u001b[0;32m<ipython-input-19-ea9289790583>\u001b[0m in \u001b[0;36m<module>\u001b[0;34m\u001b[0m\n\u001b[0;32m----> 1\u001b[0;31m \u001b[0mconn\u001b[0m \u001b[0;34m=\u001b[0m \u001b[0mibm_db\u001b[0m\u001b[0;34m.\u001b[0m\u001b[0mconnect\u001b[0m\u001b[0;34m(\u001b[0m\u001b[0;34m\"DATABASE=BLUDB;HOSTNAME=dashdb-txn-sbox-yp-lon02-01.services.eu-gb.bluemix.net;PORT=50001;PROTOCOL=TCPIP;UID=zfn84470;PWD=kl^g34ck58x7fn1s;Security=SSL;\"\u001b[0m\u001b[0;34m,\u001b[0m\u001b[0;34m\"\"\u001b[0m\u001b[0;34m,\u001b[0m\u001b[0;34m\"\"\u001b[0m\u001b[0;34m)\u001b[0m\u001b[0;34m\u001b[0m\u001b[0;34m\u001b[0m\u001b[0m\n\u001b[0m",
      "\u001b[0;31mException\u001b[0m: [IBM][CLI Driver] SQL1042C  An unexpected system error occurred.  SQLSTATE=58004 SQLCODE=-1042"
     ]
    }
   ],
   "source": [
    "conn = ibm_db.connect(\"DATABASE=BLUDB;HOSTNAME=dashdb-txn-sbox-yp-lon02-01.services.eu-gb.bluemix.net;PORT=50001;PROTOCOL=TCPIP;UID=;PWD=;Security=SSL;\",\"\",\"\")"
   ]
  },
  {
   "cell_type": "code",
   "execution_count": null,
   "metadata": {
    "scrolled": true
   },
   "outputs": [],
   "source": [
    "conn"
   ]
  },
  {
   "cell_type": "code",
   "execution_count": 7,
   "metadata": {},
   "outputs": [],
   "source": [
    "select = \"SELECT * FROM COUNTRIES\""
   ]
  },
  {
   "cell_type": "code",
   "execution_count": 16,
   "metadata": {},
   "outputs": [],
   "source": [
    "statement = ibm_db.exec_immediate(conn, select)"
   ]
  },
  {
   "cell_type": "code",
   "execution_count": 17,
   "metadata": {},
   "outputs": [
    {
     "data": {
      "text/plain": [
       "<ibm_db.IBM_DBStatement at 0x7fa890886b20>"
      ]
     },
     "execution_count": 17,
     "metadata": {},
     "output_type": "execute_result"
    }
   ],
   "source": [
    "statement"
   ]
  },
  {
   "cell_type": "code",
   "execution_count": 10,
   "metadata": {},
   "outputs": [
    {
     "name": "stdout",
     "output_type": "stream",
     "text": [
      "('1  ', 'United Kingdom of Great Britain and Ireland', 'Europe       ', 'Active', datetime.date(1945, 10, 24))\n",
      "('176', 'Kyrgyz Republic', 'Asia         ', 'Active', datetime.date(1992, 3, 2))\n",
      "('2  ', 'United States of America', 'North America', 'Active', datetime.date(1945, 10, 24))\n",
      "('3  ', \"People's Republic of China\", 'Asia         ', 'Active', datetime.date(1945, 10, 24))\n",
      "('4  ', 'Russian Federation', 'Asia         ', 'Active', datetime.date(1945, 10, 24))\n"
     ]
    }
   ],
   "source": [
    "while statement != False:\n",
    "    row = ibm_db.fetch_tuple(statement)\n",
    "    if row == False:\n",
    "        break\n",
    "    print(row)"
   ]
  },
  {
   "cell_type": "code",
   "execution_count": 11,
   "metadata": {},
   "outputs": [],
   "source": [
    "columns = ibm_db.columns(conn, None, None, 'COUNTRIES')"
   ]
  },
  {
   "cell_type": "code",
   "execution_count": 12,
   "metadata": {},
   "outputs": [
    {
     "data": {
      "text/plain": [
       "<ibm_db.IBM_DBStatement at 0x7fa8900b3260>"
      ]
     },
     "execution_count": 12,
     "metadata": {},
     "output_type": "execute_result"
    }
   ],
   "source": [
    "columns"
   ]
  },
  {
   "cell_type": "code",
   "execution_count": 13,
   "metadata": {},
   "outputs": [
    {
     "name": "stdout",
     "output_type": "stream",
     "text": [
      "COUNTRY_ID\n",
      "COUNTRY_NAME\n",
      "CONTINENT\n",
      "COUNTRY_STATUS\n",
      "ADMISSION_DATE\n"
     ]
    }
   ],
   "source": [
    "while columns:\n",
    "    row = ibm_db.fetch_both(columns)\n",
    "    if row == False:\n",
    "        break\n",
    "    print(row['COLUMN_NAME'])"
   ]
  },
  {
   "cell_type": "code",
   "execution_count": 14,
   "metadata": {},
   "outputs": [],
   "source": [
    "wrap_conn = ibm_db_dbi.Connection(conn)\n",
    "df = pd.read_sql(select, wrap_conn)"
   ]
  },
  {
   "cell_type": "code",
   "execution_count": 15,
   "metadata": {},
   "outputs": [
    {
     "data": {
      "text/html": [
       "<div>\n",
       "<style scoped>\n",
       "    .dataframe tbody tr th:only-of-type {\n",
       "        vertical-align: middle;\n",
       "    }\n",
       "\n",
       "    .dataframe tbody tr th {\n",
       "        vertical-align: top;\n",
       "    }\n",
       "\n",
       "    .dataframe thead th {\n",
       "        text-align: right;\n",
       "    }\n",
       "</style>\n",
       "<table border=\"1\" class=\"dataframe\">\n",
       "  <thead>\n",
       "    <tr style=\"text-align: right;\">\n",
       "      <th></th>\n",
       "      <th>COUNTRY_ID</th>\n",
       "      <th>COUNTRY_NAME</th>\n",
       "      <th>CONTINENT</th>\n",
       "      <th>COUNTRY_STATUS</th>\n",
       "      <th>ADMISSION_DATE</th>\n",
       "    </tr>\n",
       "  </thead>\n",
       "  <tbody>\n",
       "    <tr>\n",
       "      <th>0</th>\n",
       "      <td>1</td>\n",
       "      <td>United Kingdom of Great Britain and Ireland</td>\n",
       "      <td>Europe</td>\n",
       "      <td>Active</td>\n",
       "      <td>1945-10-24</td>\n",
       "    </tr>\n",
       "    <tr>\n",
       "      <th>1</th>\n",
       "      <td>176</td>\n",
       "      <td>Kyrgyz Republic</td>\n",
       "      <td>Asia</td>\n",
       "      <td>Active</td>\n",
       "      <td>1992-03-02</td>\n",
       "    </tr>\n",
       "    <tr>\n",
       "      <th>2</th>\n",
       "      <td>2</td>\n",
       "      <td>United States of America</td>\n",
       "      <td>North America</td>\n",
       "      <td>Active</td>\n",
       "      <td>1945-10-24</td>\n",
       "    </tr>\n",
       "    <tr>\n",
       "      <th>3</th>\n",
       "      <td>3</td>\n",
       "      <td>People's Republic of China</td>\n",
       "      <td>Asia</td>\n",
       "      <td>Active</td>\n",
       "      <td>1945-10-24</td>\n",
       "    </tr>\n",
       "    <tr>\n",
       "      <th>4</th>\n",
       "      <td>4</td>\n",
       "      <td>Russian Federation</td>\n",
       "      <td>Asia</td>\n",
       "      <td>Active</td>\n",
       "      <td>1945-10-24</td>\n",
       "    </tr>\n",
       "  </tbody>\n",
       "</table>\n",
       "</div>"
      ],
      "text/plain": [
       "  COUNTRY_ID                                 COUNTRY_NAME      CONTINENT  \\\n",
       "0        1    United Kingdom of Great Britain and Ireland  Europe          \n",
       "1        176                              Kyrgyz Republic  Asia            \n",
       "2        2                       United States of America  North America   \n",
       "3        3                     People's Republic of China  Asia            \n",
       "4        4                             Russian Federation  Asia            \n",
       "\n",
       "  COUNTRY_STATUS ADMISSION_DATE  \n",
       "0         Active     1945-10-24  \n",
       "1         Active     1992-03-02  \n",
       "2         Active     1945-10-24  \n",
       "3         Active     1945-10-24  \n",
       "4         Active     1945-10-24  "
      ]
     },
     "execution_count": 15,
     "metadata": {},
     "output_type": "execute_result"
    }
   ],
   "source": [
    "df"
   ]
  },
  {
   "cell_type": "code",
   "execution_count": null,
   "metadata": {},
   "outputs": [],
   "source": []
  }
 ],
 "metadata": {
  "kernelspec": {
   "display_name": "Python 3",
   "language": "python",
   "name": "python3"
  },
  "language_info": {
   "codemirror_mode": {
    "name": "ipython",
    "version": 3
   },
   "file_extension": ".py",
   "mimetype": "text/x-python",
   "name": "python",
   "nbconvert_exporter": "python",
   "pygments_lexer": "ipython3",
   "version": "3.7.8"
  }
 },
 "nbformat": 4,
 "nbformat_minor": 4
}