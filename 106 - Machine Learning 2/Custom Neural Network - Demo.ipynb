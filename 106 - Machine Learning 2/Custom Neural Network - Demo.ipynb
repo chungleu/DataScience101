{
 "cells": [
  {
   "cell_type": "code",
   "execution_count": 5,
   "metadata": {},
   "outputs": [
    {
     "name": "stderr",
     "output_type": "stream",
     "text": [
      "/Users/chungleu@uk.ibm.com/opt/anaconda3/lib/python3.7/site-packages/tensorflow/python/framework/dtypes.py:516: FutureWarning: Passing (type, 1) or '1type' as a synonym of type is deprecated; in a future version of numpy, it will be understood as (type, (1,)) / '(1,)type'.\n",
      "  _np_qint8 = np.dtype([(\"qint8\", np.int8, 1)])\n",
      "/Users/chungleu@uk.ibm.com/opt/anaconda3/lib/python3.7/site-packages/tensorflow/python/framework/dtypes.py:517: FutureWarning: Passing (type, 1) or '1type' as a synonym of type is deprecated; in a future version of numpy, it will be understood as (type, (1,)) / '(1,)type'.\n",
      "  _np_quint8 = np.dtype([(\"quint8\", np.uint8, 1)])\n",
      "/Users/chungleu@uk.ibm.com/opt/anaconda3/lib/python3.7/site-packages/tensorflow/python/framework/dtypes.py:518: FutureWarning: Passing (type, 1) or '1type' as a synonym of type is deprecated; in a future version of numpy, it will be understood as (type, (1,)) / '(1,)type'.\n",
      "  _np_qint16 = np.dtype([(\"qint16\", np.int16, 1)])\n",
      "/Users/chungleu@uk.ibm.com/opt/anaconda3/lib/python3.7/site-packages/tensorflow/python/framework/dtypes.py:519: FutureWarning: Passing (type, 1) or '1type' as a synonym of type is deprecated; in a future version of numpy, it will be understood as (type, (1,)) / '(1,)type'.\n",
      "  _np_quint16 = np.dtype([(\"quint16\", np.uint16, 1)])\n",
      "/Users/chungleu@uk.ibm.com/opt/anaconda3/lib/python3.7/site-packages/tensorflow/python/framework/dtypes.py:520: FutureWarning: Passing (type, 1) or '1type' as a synonym of type is deprecated; in a future version of numpy, it will be understood as (type, (1,)) / '(1,)type'.\n",
      "  _np_qint32 = np.dtype([(\"qint32\", np.int32, 1)])\n",
      "/Users/chungleu@uk.ibm.com/opt/anaconda3/lib/python3.7/site-packages/tensorflow/python/framework/dtypes.py:525: FutureWarning: Passing (type, 1) or '1type' as a synonym of type is deprecated; in a future version of numpy, it will be understood as (type, (1,)) / '(1,)type'.\n",
      "  np_resource = np.dtype([(\"resource\", np.ubyte, 1)])\n",
      "/Users/chungleu@uk.ibm.com/opt/anaconda3/lib/python3.7/site-packages/tensorboard/compat/tensorflow_stub/dtypes.py:541: FutureWarning: Passing (type, 1) or '1type' as a synonym of type is deprecated; in a future version of numpy, it will be understood as (type, (1,)) / '(1,)type'.\n",
      "  _np_qint8 = np.dtype([(\"qint8\", np.int8, 1)])\n",
      "/Users/chungleu@uk.ibm.com/opt/anaconda3/lib/python3.7/site-packages/tensorboard/compat/tensorflow_stub/dtypes.py:542: FutureWarning: Passing (type, 1) or '1type' as a synonym of type is deprecated; in a future version of numpy, it will be understood as (type, (1,)) / '(1,)type'.\n",
      "  _np_quint8 = np.dtype([(\"quint8\", np.uint8, 1)])\n",
      "/Users/chungleu@uk.ibm.com/opt/anaconda3/lib/python3.7/site-packages/tensorboard/compat/tensorflow_stub/dtypes.py:543: FutureWarning: Passing (type, 1) or '1type' as a synonym of type is deprecated; in a future version of numpy, it will be understood as (type, (1,)) / '(1,)type'.\n",
      "  _np_qint16 = np.dtype([(\"qint16\", np.int16, 1)])\n",
      "/Users/chungleu@uk.ibm.com/opt/anaconda3/lib/python3.7/site-packages/tensorboard/compat/tensorflow_stub/dtypes.py:544: FutureWarning: Passing (type, 1) or '1type' as a synonym of type is deprecated; in a future version of numpy, it will be understood as (type, (1,)) / '(1,)type'.\n",
      "  _np_quint16 = np.dtype([(\"quint16\", np.uint16, 1)])\n",
      "/Users/chungleu@uk.ibm.com/opt/anaconda3/lib/python3.7/site-packages/tensorboard/compat/tensorflow_stub/dtypes.py:545: FutureWarning: Passing (type, 1) or '1type' as a synonym of type is deprecated; in a future version of numpy, it will be understood as (type, (1,)) / '(1,)type'.\n",
      "  _np_qint32 = np.dtype([(\"qint32\", np.int32, 1)])\n",
      "/Users/chungleu@uk.ibm.com/opt/anaconda3/lib/python3.7/site-packages/tensorboard/compat/tensorflow_stub/dtypes.py:550: FutureWarning: Passing (type, 1) or '1type' as a synonym of type is deprecated; in a future version of numpy, it will be understood as (type, (1,)) / '(1,)type'.\n",
      "  np_resource = np.dtype([(\"resource\", np.ubyte, 1)])\n",
      "Using TensorFlow backend.\n",
      "In /Users/chungleu@uk.ibm.com/opt/anaconda3/lib/python3.7/site-packages/matplotlib/mpl-data/stylelib/_classic_test.mplstyle: \n",
      "The text.latex.preview rcparam was deprecated in Matplotlib 3.3 and will be removed two minor releases later.\n",
      "In /Users/chungleu@uk.ibm.com/opt/anaconda3/lib/python3.7/site-packages/matplotlib/mpl-data/stylelib/_classic_test.mplstyle: \n",
      "The mathtext.fallback_to_cm rcparam was deprecated in Matplotlib 3.3 and will be removed two minor releases later.\n",
      "In /Users/chungleu@uk.ibm.com/opt/anaconda3/lib/python3.7/site-packages/matplotlib/mpl-data/stylelib/_classic_test.mplstyle: Support for setting the 'mathtext.fallback_to_cm' rcParam is deprecated since 3.3 and will be removed two minor releases later; use 'mathtext.fallback : 'cm' instead.\n",
      "In /Users/chungleu@uk.ibm.com/opt/anaconda3/lib/python3.7/site-packages/matplotlib/mpl-data/stylelib/_classic_test.mplstyle: \n",
      "The validate_bool_maybe_none function was deprecated in Matplotlib 3.3 and will be removed two minor releases later.\n",
      "In /Users/chungleu@uk.ibm.com/opt/anaconda3/lib/python3.7/site-packages/matplotlib/mpl-data/stylelib/_classic_test.mplstyle: \n",
      "The savefig.jpeg_quality rcparam was deprecated in Matplotlib 3.3 and will be removed two minor releases later.\n",
      "In /Users/chungleu@uk.ibm.com/opt/anaconda3/lib/python3.7/site-packages/matplotlib/mpl-data/stylelib/_classic_test.mplstyle: \n",
      "The keymap.all_axes rcparam was deprecated in Matplotlib 3.3 and will be removed two minor releases later.\n",
      "In /Users/chungleu@uk.ibm.com/opt/anaconda3/lib/python3.7/site-packages/matplotlib/mpl-data/stylelib/_classic_test.mplstyle: \n",
      "The animation.avconv_path rcparam was deprecated in Matplotlib 3.3 and will be removed two minor releases later.\n",
      "In /Users/chungleu@uk.ibm.com/opt/anaconda3/lib/python3.7/site-packages/matplotlib/mpl-data/stylelib/_classic_test.mplstyle: \n",
      "The animation.avconv_args rcparam was deprecated in Matplotlib 3.3 and will be removed two minor releases later.\n"
     ]
    }
   ],
   "source": [
    "import os\n",
    "import numpy as np\n",
    "import tensorflow as tf\n",
    "import itertools\n",
    "import keras\n",
    "\n",
    "from keras.datasets import cifar10 # cifar image set http://www.cs.toronto.edu/~kriz/cifar.html\n",
    "from keras.models import Sequential\n",
    "from keras.layers import Dense, Activation, Dropout\n",
    "\n",
    "from IPython.display import display # display our images\n",
    "from keras.preprocessing.image import array_to_img\n",
    "\n",
    "from keras.callbacks import TensorBoard # We'll use Tensorboard to track the performance of our model\n",
    "from time import strftime # picks up the current system time\n",
    "\n",
    "from sklearn.metrics import confusion_matrix\n",
    "import matplotlib.pyplot as plt"
   ]
  },
  {
   "cell_type": "markdown",
   "metadata": {},
   "source": [
    "# Constants"
   ]
  },
  {
   "cell_type": "code",
   "execution_count": 6,
   "metadata": {},
   "outputs": [],
   "source": [
    "# CIFAR image set has 10 different types of objects\n",
    "LABEL_NAMES = ['Plane', 'Car', 'Bird', 'Cat', 'Deer', 'Dog', 'Frog', 'Horse', 'Ship', 'Truck']\n",
    "\n",
    "VALIDATION_SIZE = 10000\n",
    "SMALL_TRAIN_SIZE = 1000"
   ]
  },
  {
   "cell_type": "markdown",
   "metadata": {},
   "source": [
    "# Get Data"
   ]
  },
  {
   "cell_type": "code",
   "execution_count": 7,
   "metadata": {},
   "outputs": [],
   "source": [
    "# From the cifar dataset, we determine our training and test datasets\n",
    "(x_train_all, y_train_all), (x_test, y_test) = cifar10.load_data()"
   ]
  },
  {
   "cell_type": "code",
   "execution_count": 8,
   "metadata": {},
   "outputs": [
    {
     "data": {
      "text/plain": [
       "(50000, 32, 32, 3)"
      ]
     },
     "execution_count": 8,
     "metadata": {},
     "output_type": "execute_result"
    }
   ],
   "source": [
    "x_train_all.shape"
   ]
  },
  {
   "cell_type": "code",
   "execution_count": 9,
   "metadata": {},
   "outputs": [
    {
     "name": "stdout",
     "output_type": "stream",
     "text": [
      "image = 50000 \t| width = 32 \t| height = 32 \t| channels = 3\n"
     ]
    }
   ],
   "source": [
    "# This shows us how mane images are, its size in pixels, and how many colour channels each pixel can have\n",
    "# Each pixel uses RGB, a description of the mix of Red, Green, and Blue to give its final colour\n",
    "\n",
    "nr_image, x, y, c = x_train_all.shape\n",
    "print(f'image = {nr_image} \\t| width = {x} \\t| height = {y} \\t| channels = {c}')"
   ]
  },
  {
   "cell_type": "markdown",
   "metadata": {},
   "source": [
    "# Explore Data"
   ]
  },
  {
   "cell_type": "code",
   "execution_count": 10,
   "metadata": {},
   "outputs": [
    {
     "data": {
      "text/plain": [
       "array([[[ 59,  62,  63],\n",
       "        [ 43,  46,  45],\n",
       "        [ 50,  48,  43],\n",
       "        ...,\n",
       "        [158, 132, 108],\n",
       "        [152, 125, 102],\n",
       "        [148, 124, 103]],\n",
       "\n",
       "       [[ 16,  20,  20],\n",
       "        [  0,   0,   0],\n",
       "        [ 18,   8,   0],\n",
       "        ...,\n",
       "        [123,  88,  55],\n",
       "        [119,  83,  50],\n",
       "        [122,  87,  57]],\n",
       "\n",
       "       [[ 25,  24,  21],\n",
       "        [ 16,   7,   0],\n",
       "        [ 49,  27,   8],\n",
       "        ...,\n",
       "        [118,  84,  50],\n",
       "        [120,  84,  50],\n",
       "        [109,  73,  42]],\n",
       "\n",
       "       ...,\n",
       "\n",
       "       [[208, 170,  96],\n",
       "        [201, 153,  34],\n",
       "        [198, 161,  26],\n",
       "        ...,\n",
       "        [160, 133,  70],\n",
       "        [ 56,  31,   7],\n",
       "        [ 53,  34,  20]],\n",
       "\n",
       "       [[180, 139,  96],\n",
       "        [173, 123,  42],\n",
       "        [186, 144,  30],\n",
       "        ...,\n",
       "        [184, 148,  94],\n",
       "        [ 97,  62,  34],\n",
       "        [ 83,  53,  34]],\n",
       "\n",
       "       [[177, 144, 116],\n",
       "        [168, 129,  94],\n",
       "        [179, 142,  87],\n",
       "        ...,\n",
       "        [216, 184, 140],\n",
       "        [151, 118,  84],\n",
       "        [123,  92,  72]]], dtype=uint8)"
      ]
     },
     "execution_count": 10,
     "metadata": {},
     "output_type": "execute_result"
    }
   ],
   "source": [
    "# Take a look at what our training data actually looks like\n",
    "# As above, it'll be 50,000 images, each with 32x32 pixels with 3 values for RGB colours\n",
    "x_train_all[0]"
   ]
  },
  {
   "cell_type": "code",
   "execution_count": 11,
   "metadata": {},
   "outputs": [
    {
     "data": {
      "image/png": "[encoded data removed]",
      "text/plain": [
       "<PIL.Image.Image image mode=RGB size=32x32 at 0x7FEA03C6D210>"
      ]
     },
     "metadata": {},
     "output_type": "display_data"
    }
   ],
   "source": [
    "# Show the pic for the 6th image in our set\n",
    "# You may need to squint for this bit\n",
    "pic = array_to_img(x_train_all[5])\n",
    "display(pic)"
   ]
  },
  {
   "cell_type": "code",
   "execution_count": 12,
   "metadata": {},
   "outputs": [
    {
     "data": {
      "text/plain": [
       "1"
      ]
     },
     "execution_count": 12,
     "metadata": {},
     "output_type": "execute_result"
    }
   ],
   "source": [
    "# What label is this?\n",
    "y_train_all[5][0]"
   ]
  },
  {
   "cell_type": "code",
   "execution_count": 13,
   "metadata": {},
   "outputs": [
    {
     "data": {
      "text/plain": [
       "'Car'"
      ]
     },
     "execution_count": 13,
     "metadata": {},
     "output_type": "execute_result"
    }
   ],
   "source": [
    "LABEL_NAMES[y_train_all[5][0]]"
   ]
  },
  {
   "cell_type": "code",
   "execution_count": 14,
   "metadata": {},
   "outputs": [
    {
     "data": {
      "image/png": "[encoded data removed]",
      "text/plain": [
       "<Figure size 432x288 with 1 Axes>"
      ]
     },
     "metadata": {
      "needs_background": "light"
     },
     "output_type": "display_data"
    }
   ],
   "source": [
    "plt.imshow(x_train_all[5])\n",
    "plt.xlabel(LABEL_NAMES[y_train_all[5][0]])\n",
    "plt.show()"
   ]
  },
  {
   "cell_type": "markdown",
   "metadata": {},
   "source": [
    "# PreProcess Data"
   ]
  },
  {
   "cell_type": "code",
   "execution_count": 15,
   "metadata": {},
   "outputs": [],
   "source": [
    "# RGB colours are from 0-255\n",
    "# We're going to scale our data down to values between 0 and 1\n",
    "# This makes it easier for our model to process"
   ]
  },
  {
   "cell_type": "code",
   "execution_count": 16,
   "metadata": {},
   "outputs": [
    {
     "data": {
      "text/plain": [
       "array([59, 62, 63], dtype=uint8)"
      ]
     },
     "execution_count": 16,
     "metadata": {},
     "output_type": "execute_result"
    }
   ],
   "source": [
    "x_train_all[0][0][0]"
   ]
  },
  {
   "cell_type": "code",
   "execution_count": 17,
   "metadata": {},
   "outputs": [],
   "source": [
    "x_train_all, x_test = x_train_all /255.0, x_test / 255.0"
   ]
  },
  {
   "cell_type": "code",
   "execution_count": 18,
   "metadata": {},
   "outputs": [
    {
     "data": {
      "text/plain": [
       "array([0.23137255, 0.24313725, 0.24705882])"
      ]
     },
     "execution_count": 18,
     "metadata": {},
     "output_type": "execute_result"
    }
   ],
   "source": [
    "x_train_all[0][0][0]"
   ]
  },
  {
   "cell_type": "code",
   "execution_count": 19,
   "metadata": {},
   "outputs": [
    {
     "data": {
      "text/plain": [
       "(50000, 32, 32, 3)"
      ]
     },
     "execution_count": 19,
     "metadata": {},
     "output_type": "execute_result"
    }
   ],
   "source": [
    "# Our dataset shape remains the same even though we've changed the values\n",
    "x_train_all.shape"
   ]
  },
  {
   "cell_type": "code",
   "execution_count": 20,
   "metadata": {},
   "outputs": [
    {
     "data": {
      "text/plain": [
       "3072"
      ]
     },
     "execution_count": 20,
     "metadata": {},
     "output_type": "execute_result"
    }
   ],
   "source": [
    "IMAGE_WIDTH = 32\n",
    "IMAGE_HEIGHT = 32\n",
    "IMAGE_PIXELS = IMAGE_WIDTH * IMAGE_HEIGHT\n",
    "COLOUR_CHANNELS = 3\n",
    "TOTAL_INPUTS = IMAGE_PIXELS * COLOUR_CHANNELS\n",
    "TOTAL_INPUTS"
   ]
  },
  {
   "cell_type": "code",
   "execution_count": 21,
   "metadata": {},
   "outputs": [],
   "source": [
    "# We're going to reshape our dataset, flattening it so it doesn't have so many nested dimensions\n",
    "x_train_all = x_train_all.reshape(len(x_train_all), TOTAL_INPUTS)"
   ]
  },
  {
   "cell_type": "code",
   "execution_count": 22,
   "metadata": {},
   "outputs": [
    {
     "data": {
      "text/plain": [
       "(50000, 3072)"
      ]
     },
     "execution_count": 22,
     "metadata": {},
     "output_type": "execute_result"
    }
   ],
   "source": [
    "x_train_all.shape"
   ]
  },
  {
   "cell_type": "code",
   "execution_count": 23,
   "metadata": {},
   "outputs": [
    {
     "data": {
      "text/plain": [
       "array([0.23137255, 0.24313725, 0.24705882, ..., 0.48235294, 0.36078431,\n",
       "       0.28235294])"
      ]
     },
     "execution_count": 23,
     "metadata": {},
     "output_type": "execute_result"
    }
   ],
   "source": [
    "# Each image is not flattened as one long array\n",
    "x_train_all[0]"
   ]
  },
  {
   "cell_type": "code",
   "execution_count": 24,
   "metadata": {},
   "outputs": [],
   "source": [
    "# Do the same for our test set\n",
    "x_test = x_test.reshape(len(x_test), TOTAL_INPUTS)"
   ]
  },
  {
   "cell_type": "code",
   "execution_count": 25,
   "metadata": {},
   "outputs": [
    {
     "data": {
      "text/plain": [
       "(10000, 3072)"
      ]
     },
     "execution_count": 25,
     "metadata": {},
     "output_type": "execute_result"
    }
   ],
   "source": [
    "x_test.shape"
   ]
  },
  {
   "cell_type": "markdown",
   "metadata": {},
   "source": [
    "# Create Validation Dataset"
   ]
  },
  {
   "cell_type": "code",
   "execution_count": 26,
   "metadata": {},
   "outputs": [
    {
     "data": {
      "text/plain": [
       "(10000, 3072)"
      ]
     },
     "execution_count": 26,
     "metadata": {},
     "output_type": "execute_result"
    }
   ],
   "source": [
    "# 1st 10,000 items\n",
    "x_validate = x_train_all[0:VALIDATION_SIZE]\n",
    "y_validate = y_train_all[0:VALIDATION_SIZE]\n",
    "x_validate.shape"
   ]
  },
  {
   "cell_type": "code",
   "execution_count": 27,
   "metadata": {},
   "outputs": [
    {
     "data": {
      "text/plain": [
       "(40000, 3072)"
      ]
     },
     "execution_count": 27,
     "metadata": {},
     "output_type": "execute_result"
    }
   ],
   "source": [
    "# Everything from 10,001 onwards\n",
    "x_train = x_train_all[VALIDATION_SIZE:]\n",
    "y_train = y_train_all[VALIDATION_SIZE:]\n",
    "x_train.shape"
   ]
  },
  {
   "cell_type": "markdown",
   "metadata": {},
   "source": [
    "## Create a demo small dataset"
   ]
  },
  {
   "cell_type": "code",
   "execution_count": 28,
   "metadata": {},
   "outputs": [],
   "source": [
    "# We can use this later to quickly validate our model works"
   ]
  },
  {
   "cell_type": "code",
   "execution_count": 29,
   "metadata": {},
   "outputs": [],
   "source": [
    "x_train_xs = x_train[0:SMALL_TRAIN_SIZE]\n",
    "y_train_xs = y_train[0:SMALL_TRAIN_SIZE]"
   ]
  },
  {
   "cell_type": "markdown",
   "metadata": {},
   "source": [
    "# Define our Keras Neural Network"
   ]
  },
  {
   "cell_type": "markdown",
   "metadata": {},
   "source": [
    "For more theory on neural networks and their layers, check out this vid from an excellent Data Science youtuber:\n",
    "https://www.youtube.com/watch?v=aircAruvnKk"
   ]
  },
  {
   "cell_type": "code",
   "execution_count": 30,
   "metadata": {},
   "outputs": [],
   "source": [
    "# Keras lets us build networks with more straightforward code than TensorFlow (sacrificing some immediate granular control)\n",
    "# We're going to build a simple 4 layer neural network\n",
    "# 1 start layer, 2 hidden layers, condensing down to our output layer\n",
    "model = Sequential([\n",
    "    Dense(units=128, input_dim=TOTAL_INPUTS, activation='relu', name='input'), # Start layer\n",
    "    Dense(units=64, activation='relu', name='hidden1'),    # Hidden layer 1\n",
    "    Dense(units=16, activation='relu', name='hidden2'),    # Hidden layer 2\n",
    "    Dense(units=10, activation='softmax', name='output')    # Output layer\n",
    "])"
   ]
  },
  {
   "cell_type": "code",
   "execution_count": 31,
   "metadata": {},
   "outputs": [
    {
     "data": {
      "text/plain": [
       "<keras.engine.sequential.Sequential at 0x7fe9f82033d0>"
      ]
     },
     "execution_count": 31,
     "metadata": {},
     "output_type": "execute_result"
    }
   ],
   "source": [
    "model"
   ]
  },
  {
   "cell_type": "code",
   "execution_count": 32,
   "metadata": {},
   "outputs": [],
   "source": [
    "model.compile(optimizer='adam', loss='sparse_categorical_crossentropy', metrics=['accuracy'])"
   ]
  },
  {
   "cell_type": "code",
   "execution_count": 33,
   "metadata": {},
   "outputs": [
    {
     "name": "stdout",
     "output_type": "stream",
     "text": [
      "Model: \"sequential_1\"\n",
      "_________________________________________________________________\n",
      "Layer (type)                 Output Shape              Param #   \n",
      "=================================================================\n",
      "input (Dense)                (None, 128)               393344    \n",
      "_________________________________________________________________\n",
      "hidden1 (Dense)              (None, 64)                8256      \n",
      "_________________________________________________________________\n",
      "hidden2 (Dense)              (None, 16)                1040      \n",
      "_________________________________________________________________\n",
      "output (Dense)               (None, 10)                170       \n",
      "=================================================================\n",
      "Total params: 402,810\n",
      "Trainable params: 402,810\n",
      "Non-trainable params: 0\n",
      "_________________________________________________________________\n"
     ]
    }
   ],
   "source": [
    "model.summary()"
   ]
  },
  {
   "cell_type": "markdown",
   "metadata": {},
   "source": [
    "# Alternate Models (OPTIONAL)\n",
    "These are optional variants for you to play around with if you like.\n",
    "They demonstrate different techniques to tweak our model"
   ]
  },
  {
   "cell_type": "markdown",
   "metadata": {},
   "source": [
    "### Alternate Model #1 with dropout in input layer"
   ]
  },
  {
   "cell_type": "code",
   "execution_count": 34,
   "metadata": {},
   "outputs": [],
   "source": [
    "# Dropout at Input Layer\n",
    "# Dropout randomly 'drops' neurons in the input layer\n",
    "# The theory being that if random sections are missing from our input, more subtle relationships are acknowledged\n",
    "# https://towardsdatascience.com/introduction-to-dropout-to-regularize-deep-neural-network-8e9d6b1d4386"
   ]
  },
  {
   "cell_type": "code",
   "execution_count": 35,
   "metadata": {},
   "outputs": [],
   "source": [
    "model_2 = Sequential()\n",
    "model_2.add(Dropout(0.2, seed=42, input_shape=(TOTAL_INPUTS,)))\n",
    "model_2.add(Dense(128, activation='relu', name='m2_hidden1'))\n",
    "model_2.add(Dense(64, activation='relu', name='m2_hidden2'))\n",
    "model_2.add(Dense(16, activation='relu', name='m2_hidden3'))\n",
    "model_2.add(Dense(10, activation='softmax', name='m2_output'))\n",
    "\n",
    "model_2.compile(optimizer='adam', loss='sparse_categorical_crossentropy', metrics=['accuracy'])"
   ]
  },
  {
   "cell_type": "code",
   "execution_count": 36,
   "metadata": {},
   "outputs": [
    {
     "name": "stdout",
     "output_type": "stream",
     "text": [
      "Model: \"sequential_2\"\n",
      "_________________________________________________________________\n",
      "Layer (type)                 Output Shape              Param #   \n",
      "=================================================================\n",
      "dropout_1 (Dropout)          (None, 3072)              0         \n",
      "_________________________________________________________________\n",
      "m2_hidden1 (Dense)           (None, 128)               393344    \n",
      "_________________________________________________________________\n",
      "m2_hidden2 (Dense)           (None, 64)                8256      \n",
      "_________________________________________________________________\n",
      "m2_hidden3 (Dense)           (None, 16)                1040      \n",
      "_________________________________________________________________\n",
      "m2_output (Dense)            (None, 10)                170       \n",
      "=================================================================\n",
      "Total params: 402,810\n",
      "Trainable params: 402,810\n",
      "Non-trainable params: 0\n",
      "_________________________________________________________________\n"
     ]
    }
   ],
   "source": [
    "model_2.summary()"
   ]
  },
  {
   "cell_type": "markdown",
   "metadata": {},
   "source": [
    "### Alternate Model #2 with dropout in hidden layers"
   ]
  },
  {
   "cell_type": "code",
   "execution_count": 37,
   "metadata": {},
   "outputs": [],
   "source": [
    "# Dropout at Hidden Layer + Input Layer"
   ]
  },
  {
   "cell_type": "code",
   "execution_count": 38,
   "metadata": {},
   "outputs": [],
   "source": [
    "model_3 = Sequential()\n",
    "model_3.add(Dropout(0.2, seed=42, input_shape=(TOTAL_INPUTS,)))\n",
    "model_3.add(Dense(128, activation='relu', name='m3_hidden1'))\n",
    "model_3.add(Dropout(0.25, seed=42))\n",
    "model_3.add(Dense(64, activation='relu', name='m3_hidden2'))\n",
    "model_3.add(Dense(16, activation='relu', name='m3_hidden3'))\n",
    "model_3.add(Dense(10, activation='softmax', name='m3_output'))\n",
    "\n",
    "model_3.compile(optimizer='adam', loss='sparse_categorical_crossentropy', metrics=['accuracy'])"
   ]
  },
  {
   "cell_type": "code",
   "execution_count": 39,
   "metadata": {},
   "outputs": [
    {
     "name": "stdout",
     "output_type": "stream",
     "text": [
      "Model: \"sequential_3\"\n",
      "_________________________________________________________________\n",
      "Layer (type)                 Output Shape              Param #   \n",
      "=================================================================\n",
      "dropout_2 (Dropout)          (None, 3072)              0         \n",
      "_________________________________________________________________\n",
      "m3_hidden1 (Dense)           (None, 128)               393344    \n",
      "_________________________________________________________________\n",
      "dropout_3 (Dropout)          (None, 128)               0         \n",
      "_________________________________________________________________\n",
      "m3_hidden2 (Dense)           (None, 64)                8256      \n",
      "_________________________________________________________________\n",
      "m3_hidden3 (Dense)           (None, 16)                1040      \n",
      "_________________________________________________________________\n",
      "m3_output (Dense)            (None, 10)                170       \n",
      "=================================================================\n",
      "Total params: 402,810\n",
      "Trainable params: 402,810\n",
      "Non-trainable params: 0\n",
      "_________________________________________________________________\n"
     ]
    }
   ],
   "source": [
    "model_3.summary()"
   ]
  },
  {
   "cell_type": "code",
   "execution_count": null,
   "metadata": {},
   "outputs": [],
   "source": []
  },
  {
   "cell_type": "markdown",
   "metadata": {},
   "source": [
    "# Tensorboard\n",
    "Tensorboard is a neat tool that lets us track the performance of our model over time.\n",
    "It lets us see how the tweaks we make improve or degrade performance e.g. accuracy and over/underfitting"
   ]
  },
  {
   "cell_type": "markdown",
   "metadata": {},
   "source": [
    "To make this work we should create a sibling folder called 'tensorboard_logs' in the same folder as this notebook"
   ]
  },
  {
   "cell_type": "code",
   "execution_count": 40,
   "metadata": {},
   "outputs": [],
   "source": [
    "# We're creating a function that our model will use when it runs\n",
    "# This function will create a new folder for the model when we run it\n",
    "# The model will dump its logs in that reference folder\n",
    "\n",
    "def get_tensorboard(model):\n",
    "    folder_name = f'{model} at {strftime(\"%H %M %S\")}'\n",
    "    dir_paths = os.path.join('tensorboard_logs', folder_name)\n",
    "    \n",
    "    try:\n",
    "        os.makedirs(dir_paths)\n",
    "    except OSERROR as errr:\n",
    "        print(err.sterror)\n",
    "    else:\n",
    "        print('Created log directory')\n",
    "    \n",
    "    return TensorBoard(log_dir=dir_paths)"
   ]
  },
  {
   "cell_type": "markdown",
   "metadata": {},
   "source": [
    "To activate tensorboard locally, run the code below in your terminal or command prompt:"
   ]
  },
  {
   "cell_type": "code",
   "execution_count": 41,
   "metadata": {},
   "outputs": [],
   "source": [
    "# tensorboard --logdir=<the filepath to your tensorboard log parent folder>\n",
    "\n",
    "# e.g.\n",
    "# tensorboard --logdir /Users/chungleu@uk.ibm.com/Documents/Projects/ ... ... /tensorboard_logs\n",
    "# or\n",
    "# tensorboard --logdir=/Users/chungleu@uk.ibm.com/Documents/Projects/ ... ... /tensorboard_logs"
   ]
  },
  {
   "cell_type": "markdown",
   "metadata": {},
   "source": [
    "Running the above will show live performance logs. The terminal should tell you where it is hosted. <br>\n",
    "The default location is http://localhost:6006 <br>\n",
    "It won't show anything until the model is run though."
   ]
  },
  {
   "cell_type": "markdown",
   "metadata": {},
   "source": [
    "# Fit Our Model"
   ]
  },
  {
   "cell_type": "code",
   "execution_count": 42,
   "metadata": {},
   "outputs": [],
   "source": [
    "# Try this with different models (1, 2, 3, or anything else you create)\n",
    "# Tensorboard should automatically update with the performance of different models"
   ]
  },
  {
   "cell_type": "code",
   "execution_count": 43,
   "metadata": {},
   "outputs": [],
   "source": [
    "# We'll use these constants to set our batch size (size of chunks to break up our training data into)\n",
    "# and our epochs (number of times to iterate over the whole dataset)\n",
    "\n",
    "SAMPLES_PER_BATCH = 1000\n",
    "NR_EPOCHS = 100"
   ]
  },
  {
   "cell_type": "code",
   "execution_count": 53,
   "metadata": {},
   "outputs": [
    {
     "name": "stdout",
     "output_type": "stream",
     "text": [
      "Created log directory\n",
      "Train on 1000 samples, validate on 10000 samples\n",
      "WARNING:tensorflow:From /Users/chungleu@uk.ibm.com/opt/anaconda3/lib/python3.7/site-packages/keras/callbacks/tensorboard_v1.py:200: The name tf.summary.merge_all is deprecated. Please use tf.compat.v1.summary.merge_all instead.\n",
      "\n",
      "WARNING:tensorflow:From /Users/chungleu@uk.ibm.com/opt/anaconda3/lib/python3.7/site-packages/keras/callbacks/tensorboard_v1.py:203: The name tf.summary.FileWriter is deprecated. Please use tf.compat.v1.summary.FileWriter instead.\n",
      "\n",
      "Epoch 1/100\n",
      " - 0s - loss: 2.4255 - accuracy: 0.0990 - val_loss: 2.9515 - val_accuracy: 0.1025\n",
      "WARNING:tensorflow:From /Users/chungleu@uk.ibm.com/opt/anaconda3/lib/python3.7/site-packages/keras/callbacks/tensorboard_v1.py:343: The name tf.Summary is deprecated. Please use tf.compat.v1.Summary instead.\n",
      "\n",
      "Epoch 2/100\n",
      " - 0s - loss: 2.8915 - accuracy: 0.1140 - val_loss: 2.8701 - val_accuracy: 0.0974\n",
      "Epoch 3/100\n",
      " - 0s - loss: 2.8758 - accuracy: 0.0990 - val_loss: 2.5142 - val_accuracy: 0.0974\n",
      "Epoch 4/100\n",
      " - 0s - loss: 2.5112 - accuracy: 0.0990 - val_loss: 2.3606 - val_accuracy: 0.0903\n",
      "Epoch 5/100\n",
      " - 0s - loss: 2.3377 - accuracy: 0.0850 - val_loss: 2.3427 - val_accuracy: 0.1066\n",
      "Epoch 6/100\n",
      " - 0s - loss: 2.3135 - accuracy: 0.1170 - val_loss: 2.3478 - val_accuracy: 0.1018\n",
      "Epoch 7/100\n",
      " - 0s - loss: 2.3146 - accuracy: 0.1170 - val_loss: 2.3376 - val_accuracy: 0.1112\n",
      "Epoch 8/100\n",
      " - 0s - loss: 2.3085 - accuracy: 0.1290 - val_loss: 2.3265 - val_accuracy: 0.1160\n",
      "Epoch 9/100\n",
      " - 0s - loss: 2.3020 - accuracy: 0.1220 - val_loss: 2.3117 - val_accuracy: 0.1450\n",
      "Epoch 10/100\n",
      " - 0s - loss: 2.2882 - accuracy: 0.1440 - val_loss: 2.2980 - val_accuracy: 0.1655\n",
      "Epoch 11/100\n",
      " - 0s - loss: 2.2748 - accuracy: 0.1820 - val_loss: 2.2904 - val_accuracy: 0.1340\n",
      "Epoch 12/100\n",
      " - 0s - loss: 2.2702 - accuracy: 0.1480 - val_loss: 2.2884 - val_accuracy: 0.1366\n",
      "Epoch 13/100\n",
      " - 0s - loss: 2.2690 - accuracy: 0.1420 - val_loss: 2.2832 - val_accuracy: 0.1408\n",
      "Epoch 14/100\n",
      " - 0s - loss: 2.2621 - accuracy: 0.1590 - val_loss: 2.2769 - val_accuracy: 0.1538\n",
      "Epoch 15/100\n",
      " - 0s - loss: 2.2542 - accuracy: 0.1800 - val_loss: 2.2731 - val_accuracy: 0.1570\n",
      "Epoch 16/100\n",
      " - 0s - loss: 2.2497 - accuracy: 0.1800 - val_loss: 2.2679 - val_accuracy: 0.1494\n",
      "Epoch 17/100\n",
      " - 0s - loss: 2.2445 - accuracy: 0.1700 - val_loss: 2.2578 - val_accuracy: 0.1512\n",
      "Epoch 18/100\n",
      " - 0s - loss: 2.2347 - accuracy: 0.1680 - val_loss: 2.2461 - val_accuracy: 0.1706\n",
      "Epoch 19/100\n",
      " - 0s - loss: 2.2225 - accuracy: 0.1990 - val_loss: 2.2400 - val_accuracy: 0.1867\n",
      "Epoch 20/100\n",
      " - 0s - loss: 2.2171 - accuracy: 0.1950 - val_loss: 2.2319 - val_accuracy: 0.1753\n",
      "Epoch 21/100\n",
      " - 0s - loss: 2.2097 - accuracy: 0.1870 - val_loss: 2.2283 - val_accuracy: 0.1630\n",
      "Epoch 22/100\n",
      " - 0s - loss: 2.2049 - accuracy: 0.1720 - val_loss: 2.2233 - val_accuracy: 0.1765\n",
      "Epoch 23/100\n",
      " - 0s - loss: 2.1978 - accuracy: 0.1930 - val_loss: 2.2203 - val_accuracy: 0.1865\n",
      "Epoch 24/100\n",
      " - 0s - loss: 2.1915 - accuracy: 0.2040 - val_loss: 2.2179 - val_accuracy: 0.1848\n",
      "Epoch 25/100\n",
      " - 0s - loss: 2.1868 - accuracy: 0.2010 - val_loss: 2.2103 - val_accuracy: 0.1914\n",
      "Epoch 26/100\n",
      " - 0s - loss: 2.1786 - accuracy: 0.2020 - val_loss: 2.2083 - val_accuracy: 0.1887\n",
      "Epoch 27/100\n",
      " - 0s - loss: 2.1770 - accuracy: 0.2110 - val_loss: 2.2021 - val_accuracy: 0.1973\n",
      "Epoch 28/100\n",
      " - 0s - loss: 2.1695 - accuracy: 0.2210 - val_loss: 2.1997 - val_accuracy: 0.1955\n",
      "Epoch 29/100\n",
      " - 0s - loss: 2.1658 - accuracy: 0.2100 - val_loss: 2.1935 - val_accuracy: 0.1961\n",
      "Epoch 30/100\n",
      " - 0s - loss: 2.1578 - accuracy: 0.2100 - val_loss: 2.1908 - val_accuracy: 0.1911\n",
      "Epoch 31/100\n",
      " - 0s - loss: 2.1541 - accuracy: 0.2110 - val_loss: 2.1846 - val_accuracy: 0.1998\n",
      "Epoch 32/100\n",
      " - 0s - loss: 2.1469 - accuracy: 0.2160 - val_loss: 2.1822 - val_accuracy: 0.1994\n",
      "Epoch 33/100\n",
      " - 0s - loss: 2.1439 - accuracy: 0.2150 - val_loss: 2.1764 - val_accuracy: 0.2036\n",
      "Epoch 34/100\n",
      " - 0s - loss: 2.1375 - accuracy: 0.2190 - val_loss: 2.1734 - val_accuracy: 0.2016\n",
      "Epoch 35/100\n",
      " - 0s - loss: 2.1337 - accuracy: 0.2190 - val_loss: 2.1693 - val_accuracy: 0.2066\n",
      "Epoch 36/100\n",
      " - 0s - loss: 2.1263 - accuracy: 0.2230 - val_loss: 2.1683 - val_accuracy: 0.2074\n",
      "Epoch 37/100\n",
      " - 0s - loss: 2.1225 - accuracy: 0.2280 - val_loss: 2.1641 - val_accuracy: 0.2096\n",
      "Epoch 38/100\n",
      " - 0s - loss: 2.1158 - accuracy: 0.2300 - val_loss: 2.1616 - val_accuracy: 0.2109\n",
      "Epoch 39/100\n",
      " - 0s - loss: 2.1115 - accuracy: 0.2390 - val_loss: 2.1580 - val_accuracy: 0.2133\n",
      "Epoch 40/100\n",
      " - 0s - loss: 2.1056 - accuracy: 0.2430 - val_loss: 2.1553 - val_accuracy: 0.2144\n",
      "Epoch 41/100\n",
      " - 0s - loss: 2.1009 - accuracy: 0.2320 - val_loss: 2.1513 - val_accuracy: 0.2150\n",
      "Epoch 42/100\n",
      " - 0s - loss: 2.0948 - accuracy: 0.2520 - val_loss: 2.1480 - val_accuracy: 0.2170\n",
      "Epoch 43/100\n",
      " - 0s - loss: 2.0901 - accuracy: 0.2540 - val_loss: 2.1440 - val_accuracy: 0.2213\n",
      "Epoch 44/100\n",
      " - 0s - loss: 2.0846 - accuracy: 0.2570 - val_loss: 2.1409 - val_accuracy: 0.2226\n",
      "Epoch 45/100\n",
      " - 0s - loss: 2.0798 - accuracy: 0.2640 - val_loss: 2.1367 - val_accuracy: 0.2270\n",
      "Epoch 46/100\n",
      " - 0s - loss: 2.0744 - accuracy: 0.2680 - val_loss: 2.1327 - val_accuracy: 0.2282\n",
      "Epoch 47/100\n",
      " - 0s - loss: 2.0689 - accuracy: 0.2760 - val_loss: 2.1293 - val_accuracy: 0.2296\n",
      "Epoch 48/100\n",
      " - 0s - loss: 2.0635 - accuracy: 0.2800 - val_loss: 2.1255 - val_accuracy: 0.2324\n",
      "Epoch 49/100\n",
      " - 0s - loss: 2.0581 - accuracy: 0.2760 - val_loss: 2.1220 - val_accuracy: 0.2337\n",
      "Epoch 50/100\n",
      " - 0s - loss: 2.0533 - accuracy: 0.2780 - val_loss: 2.1182 - val_accuracy: 0.2355\n",
      "Epoch 51/100\n",
      " - 0s - loss: 2.0478 - accuracy: 0.2780 - val_loss: 2.1148 - val_accuracy: 0.2384\n",
      "Epoch 52/100\n",
      " - 0s - loss: 2.0427 - accuracy: 0.2820 - val_loss: 2.1113 - val_accuracy: 0.2410\n",
      "Epoch 53/100\n",
      " - 0s - loss: 2.0373 - accuracy: 0.2830 - val_loss: 2.1080 - val_accuracy: 0.2441\n",
      "Epoch 54/100\n",
      " - 0s - loss: 2.0317 - accuracy: 0.2820 - val_loss: 2.1053 - val_accuracy: 0.2458\n",
      "Epoch 55/100\n",
      " - 0s - loss: 2.0267 - accuracy: 0.2890 - val_loss: 2.1021 - val_accuracy: 0.2513\n",
      "Epoch 56/100\n",
      " - 0s - loss: 2.0210 - accuracy: 0.2980 - val_loss: 2.0993 - val_accuracy: 0.2528\n",
      "Epoch 57/100\n",
      " - 0s - loss: 2.0157 - accuracy: 0.3050 - val_loss: 2.0967 - val_accuracy: 0.2527\n",
      "Epoch 58/100\n",
      " - 0s - loss: 2.0103 - accuracy: 0.3050 - val_loss: 2.0936 - val_accuracy: 0.2557\n",
      "Epoch 59/100\n",
      " - 0s - loss: 2.0043 - accuracy: 0.3100 - val_loss: 2.0908 - val_accuracy: 0.2570\n",
      "Epoch 60/100\n",
      " - 0s - loss: 1.9987 - accuracy: 0.3130 - val_loss: 2.0879 - val_accuracy: 0.2586\n",
      "Epoch 61/100\n",
      " - 0s - loss: 1.9930 - accuracy: 0.3140 - val_loss: 2.0850 - val_accuracy: 0.2622\n",
      "Epoch 62/100\n",
      " - 0s - loss: 1.9873 - accuracy: 0.3210 - val_loss: 2.0822 - val_accuracy: 0.2605\n",
      "Epoch 63/100\n",
      " - 0s - loss: 1.9817 - accuracy: 0.3240 - val_loss: 2.0794 - val_accuracy: 0.2612\n",
      "Epoch 64/100\n",
      " - 0s - loss: 1.9760 - accuracy: 0.3220 - val_loss: 2.0766 - val_accuracy: 0.2660\n",
      "Epoch 65/100\n",
      " - 0s - loss: 1.9701 - accuracy: 0.3260 - val_loss: 2.0740 - val_accuracy: 0.2666\n",
      "Epoch 66/100\n",
      " - 0s - loss: 1.9643 - accuracy: 0.3320 - val_loss: 2.0715 - val_accuracy: 0.2686\n",
      "Epoch 67/100\n",
      " - 0s - loss: 1.9586 - accuracy: 0.3340 - val_loss: 2.0687 - val_accuracy: 0.2684\n",
      "Epoch 68/100\n",
      " - 0s - loss: 1.9521 - accuracy: 0.3330 - val_loss: 2.0660 - val_accuracy: 0.2713\n",
      "Epoch 69/100\n",
      " - 0s - loss: 1.9454 - accuracy: 0.3390 - val_loss: 2.0631 - val_accuracy: 0.2694\n",
      "Epoch 70/100\n",
      " - 0s - loss: 1.9393 - accuracy: 0.3420 - val_loss: 2.0605 - val_accuracy: 0.2674\n",
      "Epoch 71/100\n",
      " - 0s - loss: 1.9348 - accuracy: 0.3420 - val_loss: 2.0581 - val_accuracy: 0.2732\n",
      "Epoch 72/100\n",
      " - 0s - loss: 1.9282 - accuracy: 0.3510 - val_loss: 2.0548 - val_accuracy: 0.2730\n",
      "Epoch 73/100\n",
      " - 0s - loss: 1.9216 - accuracy: 0.3510 - val_loss: 2.0514 - val_accuracy: 0.2723\n",
      "Epoch 74/100\n",
      " - 0s - loss: 1.9147 - accuracy: 0.3530 - val_loss: 2.0499 - val_accuracy: 0.2731\n",
      "Epoch 75/100\n",
      " - 0s - loss: 1.9089 - accuracy: 0.3610 - val_loss: 2.0477 - val_accuracy: 0.2709\n",
      "Epoch 76/100\n",
      " - 0s - loss: 1.9030 - accuracy: 0.3510 - val_loss: 2.0451 - val_accuracy: 0.2715\n",
      "Epoch 77/100\n",
      " - 0s - loss: 1.8963 - accuracy: 0.3560 - val_loss: 2.0440 - val_accuracy: 0.2760\n",
      "Epoch 78/100\n",
      " - 0s - loss: 1.8902 - accuracy: 0.3660 - val_loss: 2.0416 - val_accuracy: 0.2741\n",
      "Epoch 79/100\n",
      " - 0s - loss: 1.8836 - accuracy: 0.3550 - val_loss: 2.0394 - val_accuracy: 0.2727\n"
     ]
    },
    {
     "name": "stdout",
     "output_type": "stream",
     "text": [
      "Epoch 80/100\n",
      " - 0s - loss: 1.8771 - accuracy: 0.3600 - val_loss: 2.0381 - val_accuracy: 0.2758\n",
      "Epoch 81/100\n",
      " - 0s - loss: 1.8710 - accuracy: 0.3700 - val_loss: 2.0357 - val_accuracy: 0.2727\n",
      "Epoch 82/100\n",
      " - 0s - loss: 1.8644 - accuracy: 0.3710 - val_loss: 2.0339 - val_accuracy: 0.2730\n",
      "Epoch 83/100\n",
      " - 0s - loss: 1.8581 - accuracy: 0.3640 - val_loss: 2.0326 - val_accuracy: 0.2739\n",
      "Epoch 84/100\n",
      " - 0s - loss: 1.8524 - accuracy: 0.3740 - val_loss: 2.0312 - val_accuracy: 0.2701\n",
      "Epoch 85/100\n",
      " - 0s - loss: 1.8478 - accuracy: 0.3650 - val_loss: 2.0340 - val_accuracy: 0.2734\n",
      "Epoch 86/100\n",
      " - 0s - loss: 1.8456 - accuracy: 0.3840 - val_loss: 2.0371 - val_accuracy: 0.2663\n",
      "Epoch 87/100\n",
      " - 0s - loss: 1.8469 - accuracy: 0.3550 - val_loss: 2.0350 - val_accuracy: 0.2703\n",
      "Epoch 88/100\n",
      " - 0s - loss: 1.8388 - accuracy: 0.3880 - val_loss: 2.0255 - val_accuracy: 0.2700\n",
      "Epoch 89/100\n",
      " - 0s - loss: 1.8247 - accuracy: 0.3660 - val_loss: 2.0204 - val_accuracy: 0.2766\n",
      "Epoch 90/100\n",
      " - 0s - loss: 1.8153 - accuracy: 0.3800 - val_loss: 2.0244 - val_accuracy: 0.2738\n",
      "Epoch 91/100\n",
      " - 0s - loss: 1.8147 - accuracy: 0.3850 - val_loss: 2.0232 - val_accuracy: 0.2703\n",
      "Epoch 92/100\n",
      " - 0s - loss: 1.8104 - accuracy: 0.3780 - val_loss: 2.0181 - val_accuracy: 0.2721\n",
      "Epoch 93/100\n",
      " - 0s - loss: 1.7988 - accuracy: 0.3810 - val_loss: 2.0158 - val_accuracy: 0.2743\n",
      "Epoch 94/100\n",
      " - 0s - loss: 1.7914 - accuracy: 0.3810 - val_loss: 2.0181 - val_accuracy: 0.2718\n",
      "Epoch 95/100\n",
      " - 0s - loss: 1.7898 - accuracy: 0.3780 - val_loss: 2.0190 - val_accuracy: 0.2753\n",
      "Epoch 96/100\n",
      " - 0s - loss: 1.7856 - accuracy: 0.3890 - val_loss: 2.0133 - val_accuracy: 0.2738\n",
      "Epoch 97/100\n",
      " - 0s - loss: 1.7761 - accuracy: 0.3890 - val_loss: 2.0099 - val_accuracy: 0.2774\n",
      "Epoch 98/100\n",
      " - 0s - loss: 1.7672 - accuracy: 0.3910 - val_loss: 2.0093 - val_accuracy: 0.2747\n",
      "Epoch 99/100\n",
      " - 0s - loss: 1.7624 - accuracy: 0.3910 - val_loss: 2.0096 - val_accuracy: 0.2700\n",
      "Epoch 100/100\n",
      " - 0s - loss: 1.7585 - accuracy: 0.3910 - val_loss: 2.0101 - val_accuracy: 0.2760\n",
      "CPU times: user 42.7 s, sys: 8.29 s, total: 51 s\n",
      "Wall time: 21 s\n"
     ]
    },
    {
     "data": {
      "text/plain": [
       "<keras.callbacks.callbacks.History at 0x7fe985def590>"
      ]
     },
     "execution_count": 53,
     "metadata": {},
     "output_type": "execute_result"
    }
   ],
   "source": [
    "%%time\n",
    "# We're using time because this may take a while\n",
    "# But we're setting verbose to 2 which means we'll see performance in the console\n",
    "# https://keras.rstudio.com/reference/fit.html\n",
    "\n",
    "model.fit(\n",
    "# Un-comment one of the below to set which training and target data we want to use\n",
    "    x = x_train_xs, y = y_train_xs,\n",
    "#     x = x_train, y = y_train,\n",
    "         validation_data = (x_validate, y_validate),\n",
    "         batch_size = SAMPLES_PER_BATCH,\n",
    "         epochs = NR_EPOCHS,\n",
    "         callbacks=[get_tensorboard('model')],\n",
    "         verbose=2\n",
    "         )"
   ]
  },
  {
   "cell_type": "markdown",
   "metadata": {},
   "source": [
    "# Prediction"
   ]
  },
  {
   "cell_type": "code",
   "execution_count": 54,
   "metadata": {},
   "outputs": [
    {
     "data": {
      "text/plain": [
       "(3072,)"
      ]
     },
     "execution_count": 54,
     "metadata": {},
     "output_type": "execute_result"
    }
   ],
   "source": [
    "x_validate[0].shape"
   ]
  },
  {
   "cell_type": "code",
   "execution_count": 55,
   "metadata": {},
   "outputs": [
    {
     "data": {
      "text/plain": [
       "(1, 3072)"
      ]
     },
     "execution_count": 55,
     "metadata": {},
     "output_type": "execute_result"
    }
   ],
   "source": [
    "# find a test image from our validation set\n",
    "test = np.expand_dims(x_validate[0], axis=0)\n",
    "test.shape"
   ]
  },
  {
   "cell_type": "code",
   "execution_count": 56,
   "metadata": {},
   "outputs": [
    {
     "data": {
      "text/plain": [
       "array([[0.02022985, 0.1747558 , 0.01374313, 0.10827985, 0.12790705,\n",
       "        0.07750355, 0.2680172 , 0.12583151, 0.01810735, 0.06562468]],\n",
       "      dtype=float32)"
      ]
     },
     "execution_count": 56,
     "metadata": {},
     "output_type": "execute_result"
    }
   ],
   "source": [
    "# Use our model to predict the confidence for each label class\n",
    "model.predict(test)"
   ]
  },
  {
   "cell_type": "code",
   "execution_count": 57,
   "metadata": {},
   "outputs": [
    {
     "data": {
      "text/plain": [
       "array([[0.02022981, 0.1747559 , 0.01374311, ..., 0.12583137, 0.01810733,\n",
       "        0.0656246 ],\n",
       "       [0.03928678, 0.2277709 , 0.03545098, ..., 0.03243201, 0.13817489,\n",
       "        0.05019011],\n",
       "       [0.10773991, 0.15880966, 0.02482743, ..., 0.01778511, 0.24377185,\n",
       "        0.3367269 ],\n",
       "       ...,\n",
       "       [0.02160142, 0.1136134 , 0.03451686, ..., 0.05930427, 0.30110502,\n",
       "        0.21857606],\n",
       "       [0.03737901, 0.09461504, 0.03246177, ..., 0.22743535, 0.07114204,\n",
       "        0.05988281],\n",
       "       [0.05154651, 0.05850004, 0.08360318, ..., 0.3008261 , 0.06023655,\n",
       "        0.06239546]], dtype=float32)"
      ]
     },
     "execution_count": 57,
     "metadata": {},
     "output_type": "execute_result"
    }
   ],
   "source": [
    "# Predict confidences for everything in our validation set\n",
    "model.predict(x_validate)"
   ]
  },
  {
   "cell_type": "code",
   "execution_count": 58,
   "metadata": {},
   "outputs": [
    {
     "data": {
      "text/plain": [
       "array([6])"
      ]
     },
     "execution_count": 58,
     "metadata": {},
     "output_type": "execute_result"
    }
   ],
   "source": [
    "# Top confidence label?\n",
    "model.predict_classes(test)"
   ]
  },
  {
   "cell_type": "code",
   "execution_count": 59,
   "metadata": {},
   "outputs": [
    {
     "data": {
      "text/plain": [
       "'Frog'"
      ]
     },
     "execution_count": 59,
     "metadata": {},
     "output_type": "execute_result"
    }
   ],
   "source": [
    "LABEL_NAMES[model.predict_classes(test)[0]]"
   ]
  },
  {
   "cell_type": "markdown",
   "metadata": {},
   "source": [
    "# Confusion Matrix"
   ]
  },
  {
   "cell_type": "code",
   "execution_count": 60,
   "metadata": {},
   "outputs": [],
   "source": [
    "predictions = model.predict_classes(x_test)"
   ]
  },
  {
   "cell_type": "code",
   "execution_count": 62,
   "metadata": {},
   "outputs": [],
   "source": [
    "conf_matrix = confusion_matrix(y_true = y_test,\n",
    "                               y_pred = predictions)"
   ]
  },
  {
   "cell_type": "code",
   "execution_count": 63,
   "metadata": {},
   "outputs": [],
   "source": [
    "nr_rows = conf_matrix.shape[0]\n",
    "nr_cols = conf_matrix.shape[1]"
   ]
  },
  {
   "cell_type": "code",
   "execution_count": 64,
   "metadata": {
    "scrolled": false
   },
   "outputs": [
    {
     "data": {
      "image/png": "[encoded data removed]",
      "text/plain": [
       "<Figure size 900x900 with 2 Axes>"
      ]
     },
     "metadata": {
      "needs_background": "light"
     },
     "output_type": "display_data"
    }
   ],
   "source": [
    "plt.figure(figsize = (5,5), dpi = 180)\n",
    "plt.imshow(conf_matrix, cmap=plt.cm.Greens)\n",
    "\n",
    "plt.title('Confusion matrix')\n",
    "plt.ylabel('Actual Classes')\n",
    "plt.xlabel('Predicted Classes')\n",
    "\n",
    "tick_marks = np.arange(10)\n",
    "plt.yticks(tick_marks, LABEL_NAMES)\n",
    "plt.xticks(tick_marks, LABEL_NAMES)\n",
    "\n",
    "for i, j in itertools.product(range(nr_rows), range(nr_cols)):\n",
    "    plt.text(j, i, conf_matrix[i, j], horizontalalignment='center',\n",
    "            color='white' if conf_matrix[i, j] > conf_matrix.max()/2 else 'black')\n",
    "\n",
    "plt.colorbar()\n",
    "\n",
    "plt.show()"
   ]
  },
  {
   "cell_type": "code",
   "execution_count": null,
   "metadata": {},
   "outputs": [],
   "source": [
    "# What does our confusion matrix tell us?\n",
    "# If our model were great, where should we see the biggest numbers/darkest colours?\n",
    "# Where are the confusions? What classes are being mistaken for which other classes?"
   ]
  },
  {
   "cell_type": "code",
   "execution_count": null,
   "metadata": {},
   "outputs": [],
   "source": []
  },
  {
   "cell_type": "code",
   "execution_count": null,
   "metadata": {},
   "outputs": [],
   "source": []
  }
 ],
 "metadata": {
  "kernelspec": {
   "display_name": "Python 3",
   "language": "python",
   "name": "python3"
  },
  "language_info": {
   "codemirror_mode": {
    "name": "ipython",
    "version": 3
   },
   "file_extension": ".py",
   "mimetype": "text/x-python",
   "name": "python",
   "nbconvert_exporter": "python",
   "pygments_lexer": "ipython3",
   "version": "3.7.8"
  }
 },
 "nbformat": 4,
 "nbformat_minor": 4
}
