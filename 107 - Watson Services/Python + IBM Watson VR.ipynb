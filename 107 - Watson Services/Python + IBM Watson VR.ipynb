{
 "cells": [
  {
   "cell_type": "markdown",
   "metadata": {},
   "source": [
    "# IBM Watson Library"
   ]
  },
  {
   "cell_type": "markdown",
   "metadata": {},
   "source": [
    "Full details and documentation on the IBM Watson library, check it ou here: https://pypi.org/project/ibm-watson/"
   ]
  },
  {
   "cell_type": "code",
   "execution_count": null,
   "metadata": {},
   "outputs": [],
   "source": [
    "#  pip install --upgrade \"ibm-watson>=5.0.0\""
   ]
  },
  {
   "cell_type": "code",
   "execution_count": 1,
   "metadata": {},
   "outputs": [],
   "source": [
    "from ibm_watson import VisualRecognitionV3\n",
    "from ibm_cloud_sdk_core.authenticators import IAMAuthenticator\n",
    "\n",
    "import json"
   ]
  },
  {
   "cell_type": "markdown",
   "metadata": {},
   "source": [
    "### Authenticate and Set Service URL"
   ]
  },
  {
   "cell_type": "code",
   "execution_count": 3,
   "metadata": {},
   "outputs": [
    {
     "data": {
      "text/plain": [
       "<ibm_cloud_sdk_core.authenticators.iam_authenticator.IAMAuthenticator at 0x7fbb87a74d90>"
      ]
     },
     "execution_count": 3,
     "metadata": {},
     "output_type": "execute_result"
    }
   ],
   "source": [
    "authenticator = IAMAuthenticator('{APIKEY}')\n",
    "authenticator"
   ]
  },
  {
   "cell_type": "code",
   "execution_count": 4,
   "metadata": {},
   "outputs": [
    {
     "name": "stdout",
     "output_type": "stream",
     "text": [
      "warning: On 1 December 2021, Visual Recognition will no longer be available. For more information, see https://github.com/watson-developer-cloud/python-sdk/tree/master#visual-recognition-deprecation.\n"
     ]
    },
    {
     "data": {
      "text/plain": [
       "<ibm_watson.visual_recognition_v3.VisualRecognitionV3 at 0x7fbb86b40190>"
      ]
     },
     "execution_count": 4,
     "metadata": {},
     "output_type": "execute_result"
    }
   ],
   "source": [
    "vis_recog = VisualRecognitionV3(\n",
    "    version = '2018-03-19',\n",
    "    authenticator = authenticator\n",
    ")\n",
    "vis_recog"
   ]
  },
  {
   "cell_type": "code",
   "execution_count": 5,
   "metadata": {},
   "outputs": [],
   "source": [
    "vis_recog.set_service_url('{SERVICE_URL}')"
   ]
  },
  {
   "cell_type": "markdown",
   "metadata": {},
   "source": [
    "### Set image"
   ]
  },
  {
   "cell_type": "code",
   "execution_count": 7,
   "metadata": {},
   "outputs": [],
   "source": [
    "img_url = 'https://thefunnybeaver.com/wp-content/uploads/2017/07/angry-otter.jpg'"
   ]
  },
  {
   "cell_type": "markdown",
   "metadata": {},
   "source": [
    "### Call service"
   ]
  },
  {
   "cell_type": "code",
   "execution_count": 13,
   "metadata": {},
   "outputs": [],
   "source": [
    "classes_result = vis_recog.classify(url = img_url).get_result()"
   ]
  },
  {
   "cell_type": "code",
   "execution_count": 14,
   "metadata": {},
   "outputs": [
    {
     "data": {
      "text/plain": [
       "{'images': [{'classifiers': [{'classifier_id': 'default',\n",
       "     'name': 'default',\n",
       "     'classes': [{'class': 'sea otter',\n",
       "       'score': 0.914,\n",
       "       'type_hierarchy': '/animal/mammal/carnivore/sea otter'},\n",
       "      {'class': 'carnivore', 'score': 0.967},\n",
       "      {'class': 'mammal', 'score': 0.967},\n",
       "      {'class': 'animal', 'score': 0.967},\n",
       "      {'class': 'otter',\n",
       "       'score': 0.582,\n",
       "       'type_hierarchy': '/animal/mammal/carnivore/otter'},\n",
       "      {'class': 'black color', 'score': 0.729},\n",
       "      {'class': 'chocolate color', 'score': 0.708}]}],\n",
       "   'source_url': 'https://thefunnybeaver.com/wp-content/uploads/2017/07/angry-otter.jpg',\n",
       "   'resolved_url': 'https://thefunnybeaver.com/wp-content/uploads/2017/07/angry-otter.jpg'}],\n",
       " 'images_processed': 1,\n",
       " 'custom_classes': 0}"
      ]
     },
     "execution_count": 14,
     "metadata": {},
     "output_type": "execute_result"
    }
   ],
   "source": [
    "classes_result"
   ]
  },
  {
   "cell_type": "code",
   "execution_count": 15,
   "metadata": {},
   "outputs": [
    {
     "name": "stdout",
     "output_type": "stream",
     "text": [
      "{\n",
      "  \"images\": [\n",
      "    {\n",
      "      \"classifiers\": [\n",
      "        {\n",
      "          \"classifier_id\": \"default\",\n",
      "          \"name\": \"default\",\n",
      "          \"classes\": [\n",
      "            {\n",
      "              \"class\": \"sea otter\",\n",
      "              \"score\": 0.914,\n",
      "              \"type_hierarchy\": \"/animal/mammal/carnivore/sea otter\"\n",
      "            },\n",
      "            {\n",
      "              \"class\": \"carnivore\",\n",
      "              \"score\": 0.967\n",
      "            },\n",
      "            {\n",
      "              \"class\": \"mammal\",\n",
      "              \"score\": 0.967\n",
      "            },\n",
      "            {\n",
      "              \"class\": \"animal\",\n",
      "              \"score\": 0.967\n",
      "            },\n",
      "            {\n",
      "              \"class\": \"otter\",\n",
      "              \"score\": 0.582,\n",
      "              \"type_hierarchy\": \"/animal/mammal/carnivore/otter\"\n",
      "            },\n",
      "            {\n",
      "              \"class\": \"black color\",\n",
      "              \"score\": 0.729\n",
      "            },\n",
      "            {\n",
      "              \"class\": \"chocolate color\",\n",
      "              \"score\": 0.708\n",
      "            }\n",
      "          ]\n",
      "        }\n",
      "      ],\n",
      "      \"source_url\": \"https://thefunnybeaver.com/wp-content/uploads/2017/07/angry-otter.jpg\",\n",
      "      \"resolved_url\": \"https://thefunnybeaver.com/wp-content/uploads/2017/07/angry-otter.jpg\"\n",
      "    }\n",
      "  ],\n",
      "  \"images_processed\": 1,\n",
      "  \"custom_classes\": 0\n",
      "}\n"
     ]
    }
   ],
   "source": [
    "print(json.dumps(classes_result, indent=2))"
   ]
  },
  {
   "cell_type": "markdown",
   "metadata": {},
   "source": [
    "### Quick function"
   ]
  },
  {
   "cell_type": "code",
   "execution_count": 19,
   "metadata": {},
   "outputs": [],
   "source": [
    "def nice_classify(url):\n",
    "    classes_result = vis_recog.classify(url = url).get_result()\n",
    "    print(json.dumps(classes_result, indent=2))"
   ]
  },
  {
   "cell_type": "markdown",
   "metadata": {},
   "source": [
    "# Built-In Classifiers"
   ]
  },
  {
   "cell_type": "markdown",
   "metadata": {},
   "source": [
    "https://cloud.ibm.com/apidocs/visual-recognition/visual-recognition-v3?code=python#classify <br>\n",
    "Check for explicit?!?!"
   ]
  },
  {
   "cell_type": "code",
   "execution_count": 21,
   "metadata": {},
   "outputs": [
    {
     "name": "stdout",
     "output_type": "stream",
     "text": [
      "{\n",
      "  \"images\": [\n",
      "    {\n",
      "      \"classifiers\": [\n",
      "        {\n",
      "          \"classifier_id\": \"default\",\n",
      "          \"name\": \"default\",\n",
      "          \"classes\": [\n",
      "            {\n",
      "              \"class\": \"hotdog\",\n",
      "              \"score\": 0.98,\n",
      "              \"type_hierarchy\": \"/food/nutrition/dish/sandwich/hotdog\"\n",
      "            },\n",
      "            {\n",
      "              \"class\": \"sandwich\",\n",
      "              \"score\": 0.98\n",
      "            },\n",
      "            {\n",
      "              \"class\": \"dish\",\n",
      "              \"score\": 0.98\n",
      "            },\n",
      "            {\n",
      "              \"class\": \"nutrition\",\n",
      "              \"score\": 0.98\n",
      "            },\n",
      "            {\n",
      "              \"class\": \"food\",\n",
      "              \"score\": 0.98\n",
      "            },\n",
      "            {\n",
      "              \"class\": \"food product\",\n",
      "              \"score\": 0.799\n",
      "            },\n",
      "            {\n",
      "              \"class\": \"lemon yellow color\",\n",
      "              \"score\": 0.965\n",
      "            }\n",
      "          ]\n",
      "        }\n",
      "      ],\n",
      "      \"source_url\": \"https://external-content.duckduckgo.com/iu/?u=https%3A%2F%2Fi.ytimg.com%2Fvi%2FqRPC6vOrIzE%2Fmaxresdefault.jpg&f=1&nofb=1\",\n",
      "      \"resolved_url\": \"https://external-content.duckduckgo.com/iu/?u=https%3A%2F%2Fi.ytimg.com%2Fvi%2FqRPC6vOrIzE%2Fmaxresdefault.jpg&f=1&nofb=1\"\n",
      "    }\n",
      "  ],\n",
      "  \"images_processed\": 1,\n",
      "  \"custom_classes\": 0\n",
      "}\n"
     ]
    }
   ],
   "source": [
    "nice_classify('https://external-content.duckduckgo.com/iu/?u=https%3A%2F%2Fi.ytimg.com%2Fvi%2FqRPC6vOrIzE%2Fmaxresdefault.jpg&f=1&nofb=1')"
   ]
  },
  {
   "cell_type": "code",
   "execution_count": 44,
   "metadata": {},
   "outputs": [],
   "source": [
    "def nice_classify(url, classifier = ['default']):\n",
    "    classes_result = vis_recog.classify(\n",
    "        url = url,\n",
    "        classifier_ids = classifier\n",
    "    ).get_result()\n",
    "    print(json.dumps(classes_result, indent=2))"
   ]
  },
  {
   "cell_type": "code",
   "execution_count": 46,
   "metadata": {},
   "outputs": [
    {
     "name": "stdout",
     "output_type": "stream",
     "text": [
      "{\n",
      "  \"images\": [\n",
      "    {\n",
      "      \"classifiers\": [\n",
      "        {\n",
      "          \"classifier_id\": \"default\",\n",
      "          \"name\": \"default\",\n",
      "          \"classes\": [\n",
      "            {\n",
      "              \"class\": \"hotdog\",\n",
      "              \"score\": 0.98,\n",
      "              \"type_hierarchy\": \"/food/nutrition/dish/sandwich/hotdog\"\n",
      "            },\n",
      "            {\n",
      "              \"class\": \"sandwich\",\n",
      "              \"score\": 0.98\n",
      "            },\n",
      "            {\n",
      "              \"class\": \"dish\",\n",
      "              \"score\": 0.98\n",
      "            },\n",
      "            {\n",
      "              \"class\": \"nutrition\",\n",
      "              \"score\": 0.98\n",
      "            },\n",
      "            {\n",
      "              \"class\": \"food\",\n",
      "              \"score\": 0.98\n",
      "            },\n",
      "            {\n",
      "              \"class\": \"food product\",\n",
      "              \"score\": 0.799\n",
      "            },\n",
      "            {\n",
      "              \"class\": \"lemon yellow color\",\n",
      "              \"score\": 0.965\n",
      "            }\n",
      "          ]\n",
      "        },\n",
      "        {\n",
      "          \"classifier_id\": \"food\",\n",
      "          \"name\": \"food\",\n",
      "          \"classes\": [\n",
      "            {\n",
      "              \"class\": \"banana\",\n",
      "              \"score\": 0.608,\n",
      "              \"type_hierarchy\": \"/fruit/banana\"\n",
      "            },\n",
      "            {\n",
      "              \"class\": \"fruit\",\n",
      "              \"score\": 0.633\n",
      "            },\n",
      "            {\n",
      "              \"class\": \"frankfurter bun\",\n",
      "              \"score\": 0.5,\n",
      "              \"type_hierarchy\": \"/bread/bun/frankfurter bun\"\n",
      "            },\n",
      "            {\n",
      "              \"class\": \"bun\",\n",
      "              \"score\": 0.5\n",
      "            },\n",
      "            {\n",
      "              \"class\": \"bread\",\n",
      "              \"score\": 0.5\n",
      "            }\n",
      "          ]\n",
      "        },\n",
      "        {\n",
      "          \"classifier_id\": \"explicit\",\n",
      "          \"name\": \"explicit\",\n",
      "          \"classes\": [\n",
      "            {\n",
      "              \"class\": \"not explicit\",\n",
      "              \"score\": 0.94\n",
      "            }\n",
      "          ]\n",
      "        }\n",
      "      ],\n",
      "      \"source_url\": \"https://external-content.duckduckgo.com/iu/?u=https%3A%2F%2Fi.ytimg.com%2Fvi%2FqRPC6vOrIzE%2Fmaxresdefault.jpg&f=1&nofb=1\",\n",
      "      \"resolved_url\": \"https://external-content.duckduckgo.com/iu/?u=https%3A%2F%2Fi.ytimg.com%2Fvi%2FqRPC6vOrIzE%2Fmaxresdefault.jpg&f=1&nofb=1\"\n",
      "    }\n",
      "  ],\n",
      "  \"images_processed\": 1,\n",
      "  \"custom_classes\": 0\n",
      "}\n"
     ]
    }
   ],
   "source": [
    "nice_classify('https://external-content.duckduckgo.com/iu/?u=https%3A%2F%2Fi.ytimg.com%2Fvi%2FqRPC6vOrIzE%2Fmaxresdefault.jpg&f=1&nofb=1', classifier = ['default', 'food', 'explicit'])"
   ]
  },
  {
   "cell_type": "markdown",
   "metadata": {},
   "source": [
    "# Custom Classifier"
   ]
  },
  {
   "cell_type": "markdown",
   "metadata": {},
   "source": [
    "Full details here: https://cloud.ibm.com/apidocs/visual-recognition/visual-recognition-v3?code=python#createclassifier"
   ]
  },
  {
   "cell_type": "markdown",
   "metadata": {},
   "source": [
    "### Create"
   ]
  },
  {
   "cell_type": "code",
   "execution_count": 53,
   "metadata": {},
   "outputs": [],
   "source": [
    "with open('./Mantas.zip', 'rb') as mantas, open('./Stingrays.zip', 'rb') as stingrays, open('./Otters.zip', 'rb') as otters:\n",
    "    model = vis_recog.create_classifier(\n",
    "        name = 'Batoidea',\n",
    "        positive_examples = {'manta_ray': mantas, 'stingray': stingrays},\n",
    "        negative_examples = otters\n",
    "    ).get_result()"
   ]
  },
  {
   "cell_type": "code",
   "execution_count": 50,
   "metadata": {},
   "outputs": [
    {
     "name": "stdout",
     "output_type": "stream",
     "text": [
      "{\n",
      "  \"classifier_id\": \"Batoidea_550385256\",\n",
      "  \"name\": \"Batoidea\",\n",
      "  \"status\": \"training\",\n",
      "  \"owner\": \"3b667de7-e90a-4355-805c-52bd7571d94d\",\n",
      "  \"created\": \"2021-01-07T17:07:47.359Z\",\n",
      "  \"updated\": \"2021-01-07T17:07:47.359Z\",\n",
      "  \"classes\": [\n",
      "    {\n",
      "      \"class\": \"manta_ray\"\n",
      "    },\n",
      "    {\n",
      "      \"class\": \"stingray\"\n",
      "    }\n",
      "  ],\n",
      "  \"rscnn_enabled\": false,\n",
      "  \"core_ml_enabled\": true\n",
      "}\n"
     ]
    }
   ],
   "source": [
    "print(json.dumps(model, indent=2))"
   ]
  },
  {
   "cell_type": "markdown",
   "metadata": {},
   "source": [
    "There are also APIs that support:\n",
    "- retrieving a list of available classifiers\n",
    "- retrieving classifier details\n",
    "- updating classifieres\n",
    "- deleting classifiers"
   ]
  },
  {
   "cell_type": "markdown",
   "metadata": {},
   "source": [
    "### Use"
   ]
  },
  {
   "cell_type": "code",
   "execution_count": 57,
   "metadata": {},
   "outputs": [
    {
     "name": "stdout",
     "output_type": "stream",
     "text": [
      "{\n",
      "  \"images\": [\n",
      "    {\n",
      "      \"classifiers\": [\n",
      "        {\n",
      "          \"classifier_id\": \"default\",\n",
      "          \"name\": \"default\",\n",
      "          \"classes\": [\n",
      "            {\n",
      "              \"class\": \"electric ray\",\n",
      "              \"score\": 0.628,\n",
      "              \"type_hierarchy\": \"/animal/aquatic vertebrate/fish/ray/electric ray\"\n",
      "            },\n",
      "            {\n",
      "              \"class\": \"ray\",\n",
      "              \"score\": 0.841\n",
      "            },\n",
      "            {\n",
      "              \"class\": \"fish\",\n",
      "              \"score\": 0.898\n",
      "            },\n",
      "            {\n",
      "              \"class\": \"aquatic vertebrate\",\n",
      "              \"score\": 0.9\n",
      "            },\n",
      "            {\n",
      "              \"class\": \"animal\",\n",
      "              \"score\": 0.93\n",
      "            },\n",
      "            {\n",
      "              \"class\": \"angel shark\",\n",
      "              \"score\": 0.536,\n",
      "              \"type_hierarchy\": \"/animal/aquatic vertebrate/fish/shark/angel shark\"\n",
      "            },\n",
      "            {\n",
      "              \"class\": \"shark\",\n",
      "              \"score\": 0.561\n",
      "            },\n",
      "            {\n",
      "              \"class\": \"marine animal\",\n",
      "              \"score\": 0.512,\n",
      "              \"type_hierarchy\": \"/animal/marine animal\"\n",
      "            },\n",
      "            {\n",
      "              \"class\": \"stingray\",\n",
      "              \"score\": 0.508,\n",
      "              \"type_hierarchy\": \"/animal/aquatic vertebrate/fish/ray/stingray\"\n",
      "            },\n",
      "            {\n",
      "              \"class\": \"butterfly ray\",\n",
      "              \"score\": 0.5,\n",
      "              \"type_hierarchy\": \"/animal/aquatic vertebrate/fish/ray/butterfly ray\"\n",
      "            },\n",
      "            {\n",
      "              \"class\": \"sea green color\",\n",
      "              \"score\": 0.967\n",
      "            },\n",
      "            {\n",
      "              \"class\": \"gray color\",\n",
      "              \"score\": 0.787\n",
      "            }\n",
      "          ]\n",
      "        },\n",
      "        {\n",
      "          \"classifier_id\": \"Batoidea_550385256\",\n",
      "          \"name\": \"Batoidea\",\n",
      "          \"classes\": [\n",
      "            {\n",
      "              \"class\": \"stingray\",\n",
      "              \"score\": 0.902\n",
      "            }\n",
      "          ]\n",
      "        }\n",
      "      ],\n",
      "      \"source_url\": \"https://external-content.duckduckgo.com/iu/?u=https%3A%2F%2Fmedia.buzzle.com%2Fmedia%2Fimages-en%2Fgallery%2Ffish%2F1200-55844925-stingray-grand-cayman-island.jpg&f=1&nofb=1\",\n",
      "      \"resolved_url\": \"https://external-content.duckduckgo.com/iu/?u=https%3A%2F%2Fmedia.buzzle.com%2Fmedia%2Fimages-en%2Fgallery%2Ffish%2F1200-55844925-stingray-grand-cayman-island.jpg&f=1&nofb=1\"\n",
      "    }\n",
      "  ],\n",
      "  \"images_processed\": 1,\n",
      "  \"custom_classes\": 2\n",
      "}\n"
     ]
    }
   ],
   "source": [
    "nice_classify('https://external-content.duckduckgo.com/iu/?u=https%3A%2F%2Fmedia.buzzle.com%2Fmedia%2Fimages-en%2Fgallery%2Ffish%2F1200-55844925-stingray-grand-cayman-island.jpg&f=1&nofb=1', ['default', 'Batoidea_550385256'])"
   ]
  },
  {
   "cell_type": "code",
   "execution_count": null,
   "metadata": {},
   "outputs": [],
   "source": []
  }
 ],
 "metadata": {
  "kernelspec": {
   "display_name": "Python 3",
   "language": "python",
   "name": "python3"
  },
  "language_info": {
   "codemirror_mode": {
    "name": "ipython",
    "version": 3
   },
   "file_extension": ".py",
   "mimetype": "text/x-python",
   "name": "python",
   "nbconvert_exporter": "python",
   "pygments_lexer": "ipython3",
   "version": "3.7.8"
  }
 },
 "nbformat": 4,
 "nbformat_minor": 4
}
