{
 "cells": [
  {
   "cell_type": "markdown",
   "metadata": {},
   "source": [
    "# IBM Watson Library"
   ]
  },
  {
   "cell_type": "markdown",
   "metadata": {},
   "source": [
    "Full details and documentation on the IBM Watson library, check it ou here: https://pypi.org/project/ibm-watson/"
   ]
  },
  {
   "cell_type": "code",
   "execution_count": 1,
   "metadata": {},
   "outputs": [],
   "source": [
    "#  pip install --upgrade \"ibm-watson>=5.0.0\""
   ]
  },
  {
   "cell_type": "code",
   "execution_count": 2,
   "metadata": {},
   "outputs": [],
   "source": [
    "from ibm_watson import VisualRecognitionV3\n",
    "from ibm_cloud_sdk_core.authenticators import IAMAuthenticator\n",
    "\n",
    "import json"
   ]
  },
  {
   "cell_type": "markdown",
   "metadata": {},
   "source": [
    "# Visual Recognition"
   ]
  },
  {
   "cell_type": "markdown",
   "metadata": {},
   "source": [
    "### Authenticate and Set Service URL"
   ]
  },
  {
   "cell_type": "code",
   "execution_count": 4,
   "metadata": {},
   "outputs": [
    {
     "data": {
      "text/plain": [
       "<ibm_cloud_sdk_core.authenticators.iam_authenticator.IAMAuthenticator at 0x7f8fa12f4f50>"
      ]
     },
     "execution_count": 4,
     "metadata": {},
     "output_type": "execute_result"
    }
   ],
   "source": [
    "authenticator = IAMAuthenticator('3n45UECd9WzYQCkVVxiqxigJqM-o6diiz-xF75C5FR-X')\n",
    "authenticator"
   ]
  },
  {
   "cell_type": "code",
   "execution_count": 5,
   "metadata": {},
   "outputs": [
    {
     "name": "stdout",
     "output_type": "stream",
     "text": [
      "warning: On 1 December 2021, Visual Recognition will no longer be available. For more information, see https://github.com/watson-developer-cloud/python-sdk/tree/master#visual-recognition-deprecation.\n"
     ]
    },
    {
     "data": {
      "text/plain": [
       "<ibm_watson.visual_recognition_v3.VisualRecognitionV3 at 0x7f8fa12fa190>"
      ]
     },
     "execution_count": 5,
     "metadata": {},
     "output_type": "execute_result"
    }
   ],
   "source": [
    "vis_recog = VisualRecognitionV3(\n",
    "    version = '2018-03-19',\n",
    "    authenticator = authenticator\n",
    ")\n",
    "vis_recog"
   ]
  },
  {
   "cell_type": "code",
   "execution_count": 6,
   "metadata": {},
   "outputs": [],
   "source": [
    "vis_recog.set_service_url('https://api.eu-de.visual-recognition.watson.cloud.ibm.com/instances/3b667de7-e90a-4355-805c-52bd7571d94d')"
   ]
  },
  {
   "cell_type": "markdown",
   "metadata": {},
   "source": [
    "### Set image"
   ]
  },
  {
   "cell_type": "code",
   "execution_count": 7,
   "metadata": {},
   "outputs": [],
   "source": [
    "img_url = 'https://thefunnybeaver.com/wp-content/uploads/2017/07/angry-otter.jpg'"
   ]
  },
  {
   "cell_type": "markdown",
   "metadata": {},
   "source": [
    "### Call service"
   ]
  },
  {
   "cell_type": "code",
   "execution_count": 8,
   "metadata": {},
   "outputs": [],
   "source": [
    "classes_result = vis_recog.classify(url = img_url).get_result()"
   ]
  },
  {
   "cell_type": "code",
   "execution_count": 9,
   "metadata": {},
   "outputs": [
    {
     "data": {
      "text/plain": [
       "{'images': [{'classifiers': [{'classifier_id': 'default',\n",
       "     'name': 'default',\n",
       "     'classes': [{'class': 'sea otter',\n",
       "       'score': 0.914,\n",
       "       'type_hierarchy': '/animal/mammal/carnivore/sea otter'},\n",
       "      {'class': 'carnivore', 'score': 0.967},\n",
       "      {'class': 'mammal', 'score': 0.967},\n",
       "      {'class': 'animal', 'score': 0.967},\n",
       "      {'class': 'otter',\n",
       "       'score': 0.582,\n",
       "       'type_hierarchy': '/animal/mammal/carnivore/otter'},\n",
       "      {'class': 'black color', 'score': 0.729},\n",
       "      {'class': 'chocolate color', 'score': 0.708}]}],\n",
       "   'source_url': 'https://thefunnybeaver.com/wp-content/uploads/2017/07/angry-otter.jpg',\n",
       "   'resolved_url': 'https://thefunnybeaver.com/wp-content/uploads/2017/07/angry-otter.jpg'}],\n",
       " 'images_processed': 1,\n",
       " 'custom_classes': 0}"
      ]
     },
     "execution_count": 9,
     "metadata": {},
     "output_type": "execute_result"
    }
   ],
   "source": [
    "classes_result"
   ]
  },
  {
   "cell_type": "code",
   "execution_count": 11,
   "metadata": {},
   "outputs": [
    {
     "name": "stdout",
     "output_type": "stream",
     "text": [
      "{\n",
      "  \"images\": [\n",
      "    {\n",
      "      \"classifiers\": [\n",
      "        {\n",
      "          \"classifier_id\": \"default\",\n",
      "          \"name\": \"default\",\n",
      "          \"classes\": [\n",
      "            {\n",
      "              \"class\": \"sea otter\",\n",
      "              \"score\": 0.914,\n",
      "              \"type_hierarchy\": \"/animal/mammal/carnivore/sea otter\"\n",
      "            },\n",
      "            {\n",
      "              \"class\": \"carnivore\",\n",
      "              \"score\": 0.967\n",
      "            },\n",
      "            {\n",
      "              \"class\": \"mammal\",\n",
      "              \"score\": 0.967\n",
      "            },\n",
      "            {\n",
      "              \"class\": \"animal\",\n",
      "              \"score\": 0.967\n",
      "            },\n",
      "            {\n",
      "              \"class\": \"otter\",\n",
      "              \"score\": 0.582,\n",
      "              \"type_hierarchy\": \"/animal/mammal/carnivore/otter\"\n",
      "            },\n",
      "            {\n",
      "              \"class\": \"black color\",\n",
      "              \"score\": 0.729\n",
      "            },\n",
      "            {\n",
      "              \"class\": \"chocolate color\",\n",
      "              \"score\": 0.708\n",
      "            }\n",
      "          ]\n",
      "        }\n",
      "      ],\n",
      "      \"source_url\": \"https://thefunnybeaver.com/wp-content/uploads/2017/07/angry-otter.jpg\",\n",
      "      \"resolved_url\": \"https://thefunnybeaver.com/wp-content/uploads/2017/07/angry-otter.jpg\"\n",
      "    }\n",
      "  ],\n",
      "  \"images_processed\": 1,\n",
      "  \"custom_classes\": 0\n",
      "}\n"
     ]
    }
   ],
   "source": [
    "print(json.dumps(classes_result, indent=2))"
   ]
  },
  {
   "cell_type": "markdown",
   "metadata": {},
   "source": [
    "### Quick function"
   ]
  },
  {
   "cell_type": "code",
   "execution_count": 12,
   "metadata": {},
   "outputs": [],
   "source": [
    "def nice_classify(url):\n",
    "    classes_result = vis_recog.classify(url = url).get_result()\n",
    "    print(json.dumps(classes_result, indent=2))"
   ]
  },
  {
   "cell_type": "markdown",
   "metadata": {},
   "source": [
    "## Built-In Classifiers"
   ]
  },
  {
   "cell_type": "markdown",
   "metadata": {},
   "source": [
    "https://cloud.ibm.com/apidocs/visual-recognition/visual-recognition-v3?code=python#classify <br>\n",
    "Check for explicit?!?!"
   ]
  },
  {
   "cell_type": "code",
   "execution_count": 13,
   "metadata": {},
   "outputs": [
    {
     "name": "stdout",
     "output_type": "stream",
     "text": [
      "{\n",
      "  \"images\": [\n",
      "    {\n",
      "      \"classifiers\": [\n",
      "        {\n",
      "          \"classifier_id\": \"default\",\n",
      "          \"name\": \"default\",\n",
      "          \"classes\": [\n",
      "            {\n",
      "              \"class\": \"hotdog\",\n",
      "              \"score\": 0.98,\n",
      "              \"type_hierarchy\": \"/food/nutrition/dish/sandwich/hotdog\"\n",
      "            },\n",
      "            {\n",
      "              \"class\": \"sandwich\",\n",
      "              \"score\": 0.98\n",
      "            },\n",
      "            {\n",
      "              \"class\": \"dish\",\n",
      "              \"score\": 0.98\n",
      "            },\n",
      "            {\n",
      "              \"class\": \"nutrition\",\n",
      "              \"score\": 0.98\n",
      "            },\n",
      "            {\n",
      "              \"class\": \"food\",\n",
      "              \"score\": 0.98\n",
      "            },\n",
      "            {\n",
      "              \"class\": \"food product\",\n",
      "              \"score\": 0.799\n",
      "            },\n",
      "            {\n",
      "              \"class\": \"lemon yellow color\",\n",
      "              \"score\": 0.965\n",
      "            }\n",
      "          ]\n",
      "        }\n",
      "      ],\n",
      "      \"source_url\": \"https://external-content.duckduckgo.com/iu/?u=https%3A%2F%2Fi.ytimg.com%2Fvi%2FqRPC6vOrIzE%2Fmaxresdefault.jpg&f=1&nofb=1\",\n",
      "      \"resolved_url\": \"https://external-content.duckduckgo.com/iu/?u=https%3A%2F%2Fi.ytimg.com%2Fvi%2FqRPC6vOrIzE%2Fmaxresdefault.jpg&f=1&nofb=1\"\n",
      "    }\n",
      "  ],\n",
      "  \"images_processed\": 1,\n",
      "  \"custom_classes\": 0\n",
      "}\n"
     ]
    }
   ],
   "source": [
    "nice_classify('https://external-content.duckduckgo.com/iu/?u=https%3A%2F%2Fi.ytimg.com%2Fvi%2FqRPC6vOrIzE%2Fmaxresdefault.jpg&f=1&nofb=1')"
   ]
  },
  {
   "cell_type": "code",
   "execution_count": 16,
   "metadata": {},
   "outputs": [],
   "source": [
    "def nice_classify(url, classifier = ['default']):\n",
    "    classes_result = vis_recog.classify(\n",
    "        url = url,\n",
    "        classifier_ids = classifier\n",
    "    ).get_result()\n",
    "    print(json.dumps(classes_result, indent=2))"
   ]
  },
  {
   "cell_type": "code",
   "execution_count": 17,
   "metadata": {},
   "outputs": [
    {
     "name": "stdout",
     "output_type": "stream",
     "text": [
      "{\n",
      "  \"images\": [\n",
      "    {\n",
      "      \"classifiers\": [\n",
      "        {\n",
      "          \"classifier_id\": \"default\",\n",
      "          \"name\": \"default\",\n",
      "          \"classes\": [\n",
      "            {\n",
      "              \"class\": \"hotdog\",\n",
      "              \"score\": 0.98,\n",
      "              \"type_hierarchy\": \"/food/nutrition/dish/sandwich/hotdog\"\n",
      "            },\n",
      "            {\n",
      "              \"class\": \"sandwich\",\n",
      "              \"score\": 0.98\n",
      "            },\n",
      "            {\n",
      "              \"class\": \"dish\",\n",
      "              \"score\": 0.98\n",
      "            },\n",
      "            {\n",
      "              \"class\": \"nutrition\",\n",
      "              \"score\": 0.98\n",
      "            },\n",
      "            {\n",
      "              \"class\": \"food\",\n",
      "              \"score\": 0.98\n",
      "            },\n",
      "            {\n",
      "              \"class\": \"food product\",\n",
      "              \"score\": 0.799\n",
      "            },\n",
      "            {\n",
      "              \"class\": \"lemon yellow color\",\n",
      "              \"score\": 0.965\n",
      "            }\n",
      "          ]\n",
      "        },\n",
      "        {\n",
      "          \"classifier_id\": \"food\",\n",
      "          \"name\": \"food\",\n",
      "          \"classes\": [\n",
      "            {\n",
      "              \"class\": \"banana\",\n",
      "              \"score\": 0.608,\n",
      "              \"type_hierarchy\": \"/fruit/banana\"\n",
      "            },\n",
      "            {\n",
      "              \"class\": \"fruit\",\n",
      "              \"score\": 0.633\n",
      "            },\n",
      "            {\n",
      "              \"class\": \"frankfurter bun\",\n",
      "              \"score\": 0.5,\n",
      "              \"type_hierarchy\": \"/bread/bun/frankfurter bun\"\n",
      "            },\n",
      "            {\n",
      "              \"class\": \"bun\",\n",
      "              \"score\": 0.5\n",
      "            },\n",
      "            {\n",
      "              \"class\": \"bread\",\n",
      "              \"score\": 0.5\n",
      "            }\n",
      "          ]\n",
      "        },\n",
      "        {\n",
      "          \"classifier_id\": \"explicit\",\n",
      "          \"name\": \"explicit\",\n",
      "          \"classes\": [\n",
      "            {\n",
      "              \"class\": \"not explicit\",\n",
      "              \"score\": 0.94\n",
      "            }\n",
      "          ]\n",
      "        }\n",
      "      ],\n",
      "      \"source_url\": \"https://external-content.duckduckgo.com/iu/?u=https%3A%2F%2Fi.ytimg.com%2Fvi%2FqRPC6vOrIzE%2Fmaxresdefault.jpg&f=1&nofb=1\",\n",
      "      \"resolved_url\": \"https://external-content.duckduckgo.com/iu/?u=https%3A%2F%2Fi.ytimg.com%2Fvi%2FqRPC6vOrIzE%2Fmaxresdefault.jpg&f=1&nofb=1\"\n",
      "    }\n",
      "  ],\n",
      "  \"images_processed\": 1,\n",
      "  \"custom_classes\": 0\n",
      "}\n"
     ]
    }
   ],
   "source": [
    "nice_classify('https://external-content.duckduckgo.com/iu/?u=https%3A%2F%2Fi.ytimg.com%2Fvi%2FqRPC6vOrIzE%2Fmaxresdefault.jpg&f=1&nofb=1', classifier = ['default', 'food', 'explicit'])"
   ]
  },
  {
   "cell_type": "markdown",
   "metadata": {},
   "source": [
    "## Custom Classifier"
   ]
  },
  {
   "cell_type": "markdown",
   "metadata": {},
   "source": [
    "Full details here: https://cloud.ibm.com/apidocs/visual-recognition/visual-recognition-v3?code=python#createclassifier"
   ]
  },
  {
   "cell_type": "markdown",
   "metadata": {},
   "source": [
    "### Create"
   ]
  },
  {
   "cell_type": "code",
   "execution_count": 18,
   "metadata": {},
   "outputs": [
    {
     "name": "stderr",
     "output_type": "stream",
     "text": [
      "ERROR:root:{'code': 400, 'error_id': 'input_error', 'description': 'Cannot execute learning task.  : this plan instance can have only 2 custom classifier(s), and 3 already exist.'}\n",
      "Traceback (most recent call last):\n",
      "  File \"/Users/chungleu@uk.ibm.com/opt/anaconda3/lib/python3.7/site-packages/ibm_cloud_sdk_core/base_service.py\", line 225, in send\n",
      "    response.status_code, http_response=response)\n",
      "ibm_cloud_sdk_core.api_exception.ApiException: Error: {'code': 400, 'error_id': 'input_error', 'description': 'Cannot execute learning task.  : this plan instance can have only 2 custom classifier(s), and 3 already exist.'}, Code: 400 , X-global-transaction-id: bd20c2ce-2961-41df-aaae-1e019ee7245f\n"
     ]
    },
    {
     "ename": "ApiException",
     "evalue": "Error: {'code': 400, 'error_id': 'input_error', 'description': 'Cannot execute learning task.  : this plan instance can have only 2 custom classifier(s), and 3 already exist.'}, Code: 400 , X-global-transaction-id: bd20c2ce-2961-41df-aaae-1e019ee7245f",
     "output_type": "error",
     "traceback": [
      "\u001b[0;31m---------------------------------------------------------------------------\u001b[0m",
      "\u001b[0;31mApiException\u001b[0m                              Traceback (most recent call last)",
      "\u001b[0;32m<ipython-input-18-957e2b2e48de>\u001b[0m in \u001b[0;36m<module>\u001b[0;34m\u001b[0m\n\u001b[1;32m      3\u001b[0m         \u001b[0mname\u001b[0m \u001b[0;34m=\u001b[0m \u001b[0;34m'Batoidea'\u001b[0m\u001b[0;34m,\u001b[0m\u001b[0;34m\u001b[0m\u001b[0;34m\u001b[0m\u001b[0m\n\u001b[1;32m      4\u001b[0m         \u001b[0mpositive_examples\u001b[0m \u001b[0;34m=\u001b[0m \u001b[0;34m{\u001b[0m\u001b[0;34m'manta_ray'\u001b[0m\u001b[0;34m:\u001b[0m \u001b[0mmantas\u001b[0m\u001b[0;34m,\u001b[0m \u001b[0;34m'stingray'\u001b[0m\u001b[0;34m:\u001b[0m \u001b[0mstingrays\u001b[0m\u001b[0;34m}\u001b[0m\u001b[0;34m,\u001b[0m\u001b[0;34m\u001b[0m\u001b[0;34m\u001b[0m\u001b[0m\n\u001b[0;32m----> 5\u001b[0;31m         \u001b[0mnegative_examples\u001b[0m \u001b[0;34m=\u001b[0m \u001b[0motters\u001b[0m\u001b[0;34m\u001b[0m\u001b[0;34m\u001b[0m\u001b[0m\n\u001b[0m\u001b[1;32m      6\u001b[0m     ).get_result()\n",
      "\u001b[0;32m~/opt/anaconda3/lib/python3.7/site-packages/ibm_watson/visual_recognition_v3.py\u001b[0m in \u001b[0;36mcreate_classifier\u001b[0;34m(self, name, positive_examples, negative_examples, negative_examples_filename, **kwargs)\u001b[0m\n\u001b[1;32m    280\u001b[0m                                        files=form_data)\n\u001b[1;32m    281\u001b[0m \u001b[0;34m\u001b[0m\u001b[0m\n\u001b[0;32m--> 282\u001b[0;31m         \u001b[0mresponse\u001b[0m \u001b[0;34m=\u001b[0m \u001b[0mself\u001b[0m\u001b[0;34m.\u001b[0m\u001b[0msend\u001b[0m\u001b[0;34m(\u001b[0m\u001b[0mrequest\u001b[0m\u001b[0;34m)\u001b[0m\u001b[0;34m\u001b[0m\u001b[0;34m\u001b[0m\u001b[0m\n\u001b[0m\u001b[1;32m    283\u001b[0m         \u001b[0;32mreturn\u001b[0m \u001b[0mresponse\u001b[0m\u001b[0;34m\u001b[0m\u001b[0;34m\u001b[0m\u001b[0m\n\u001b[1;32m    284\u001b[0m \u001b[0;34m\u001b[0m\u001b[0m\n",
      "\u001b[0;32m~/opt/anaconda3/lib/python3.7/site-packages/ibm_cloud_sdk_core/base_service.py\u001b[0m in \u001b[0;36msend\u001b[0;34m(self, request, **kwargs)\u001b[0m\n\u001b[1;32m    223\u001b[0m \u001b[0;34m\u001b[0m\u001b[0m\n\u001b[1;32m    224\u001b[0m             raise ApiException(\n\u001b[0;32m--> 225\u001b[0;31m                 response.status_code, http_response=response)\n\u001b[0m\u001b[1;32m    226\u001b[0m         \u001b[0;32mexcept\u001b[0m \u001b[0mrequests\u001b[0m\u001b[0;34m.\u001b[0m\u001b[0mexceptions\u001b[0m\u001b[0;34m.\u001b[0m\u001b[0mSSLError\u001b[0m\u001b[0;34m:\u001b[0m\u001b[0;34m\u001b[0m\u001b[0;34m\u001b[0m\u001b[0m\n\u001b[1;32m    227\u001b[0m             \u001b[0mlogging\u001b[0m\u001b[0;34m.\u001b[0m\u001b[0mexception\u001b[0m\u001b[0;34m(\u001b[0m\u001b[0mself\u001b[0m\u001b[0;34m.\u001b[0m\u001b[0mERROR_MSG_DISABLE_SSL\u001b[0m\u001b[0;34m)\u001b[0m\u001b[0;34m\u001b[0m\u001b[0;34m\u001b[0m\u001b[0m\n",
      "\u001b[0;31mApiException\u001b[0m: Error: {'code': 400, 'error_id': 'input_error', 'description': 'Cannot execute learning task.  : this plan instance can have only 2 custom classifier(s), and 3 already exist.'}, Code: 400 , X-global-transaction-id: bd20c2ce-2961-41df-aaae-1e019ee7245f"
     ]
    }
   ],
   "source": [
    "with open('./Mantas.zip', 'rb') as mantas, open('./Stingrays.zip', 'rb') as stingrays, open('./Otters.zip', 'rb') as otters:\n",
    "    model = vis_recog.create_classifier(\n",
    "        name = 'Batoidea',\n",
    "        positive_examples = {'manta_ray': mantas, 'stingray': stingrays},\n",
    "        negative_examples = otters\n",
    "    ).get_result()"
   ]
  },
  {
   "cell_type": "code",
   "execution_count": null,
   "metadata": {},
   "outputs": [],
   "source": [
    "### List "
   ]
  },
  {
   "cell_type": "code",
   "execution_count": null,
   "metadata": {},
   "outputs": [],
   "source": []
  },
  {
   "cell_type": "code",
   "execution_count": 19,
   "metadata": {},
   "outputs": [
    {
     "ename": "NameError",
     "evalue": "name 'model' is not defined",
     "output_type": "error",
     "traceback": [
      "\u001b[0;31m---------------------------------------------------------------------------\u001b[0m",
      "\u001b[0;31mNameError\u001b[0m                                 Traceback (most recent call last)",
      "\u001b[0;32m<ipython-input-19-b4adaf2691ea>\u001b[0m in \u001b[0;36m<module>\u001b[0;34m\u001b[0m\n\u001b[0;32m----> 1\u001b[0;31m \u001b[0mprint\u001b[0m\u001b[0;34m(\u001b[0m\u001b[0mjson\u001b[0m\u001b[0;34m.\u001b[0m\u001b[0mdumps\u001b[0m\u001b[0;34m(\u001b[0m\u001b[0mmodel\u001b[0m\u001b[0;34m,\u001b[0m \u001b[0mindent\u001b[0m\u001b[0;34m=\u001b[0m\u001b[0;36m2\u001b[0m\u001b[0;34m)\u001b[0m\u001b[0;34m)\u001b[0m\u001b[0;34m\u001b[0m\u001b[0;34m\u001b[0m\u001b[0m\n\u001b[0m",
      "\u001b[0;31mNameError\u001b[0m: name 'model' is not defined"
     ]
    }
   ],
   "source": [
    "print(json.dumps(model, indent=2))"
   ]
  },
  {
   "cell_type": "markdown",
   "metadata": {},
   "source": [
    "There are also APIs that support:\n",
    "- retrieving a list of available classifiers\n",
    "- retrieving classifier details\n",
    "- updating classifieres\n",
    "- deleting classifiers"
   ]
  },
  {
   "cell_type": "markdown",
   "metadata": {},
   "source": [
    "### Use"
   ]
  },
  {
   "cell_type": "code",
   "execution_count": 20,
   "metadata": {},
   "outputs": [
    {
     "name": "stdout",
     "output_type": "stream",
     "text": [
      "{\n",
      "  \"images\": [\n",
      "    {\n",
      "      \"classifiers\": [\n",
      "        {\n",
      "          \"classifier_id\": \"default\",\n",
      "          \"name\": \"default\",\n",
      "          \"classes\": [\n",
      "            {\n",
      "              \"class\": \"electric ray\",\n",
      "              \"score\": 0.628,\n",
      "              \"type_hierarchy\": \"/animal/aquatic vertebrate/fish/ray/electric ray\"\n",
      "            },\n",
      "            {\n",
      "              \"class\": \"ray\",\n",
      "              \"score\": 0.841\n",
      "            },\n",
      "            {\n",
      "              \"class\": \"fish\",\n",
      "              \"score\": 0.898\n",
      "            },\n",
      "            {\n",
      "              \"class\": \"aquatic vertebrate\",\n",
      "              \"score\": 0.9\n",
      "            },\n",
      "            {\n",
      "              \"class\": \"animal\",\n",
      "              \"score\": 0.93\n",
      "            },\n",
      "            {\n",
      "              \"class\": \"angel shark\",\n",
      "              \"score\": 0.536,\n",
      "              \"type_hierarchy\": \"/animal/aquatic vertebrate/fish/shark/angel shark\"\n",
      "            },\n",
      "            {\n",
      "              \"class\": \"shark\",\n",
      "              \"score\": 0.561\n",
      "            },\n",
      "            {\n",
      "              \"class\": \"marine animal\",\n",
      "              \"score\": 0.512,\n",
      "              \"type_hierarchy\": \"/animal/marine animal\"\n",
      "            },\n",
      "            {\n",
      "              \"class\": \"stingray\",\n",
      "              \"score\": 0.508,\n",
      "              \"type_hierarchy\": \"/animal/aquatic vertebrate/fish/ray/stingray\"\n",
      "            },\n",
      "            {\n",
      "              \"class\": \"butterfly ray\",\n",
      "              \"score\": 0.5,\n",
      "              \"type_hierarchy\": \"/animal/aquatic vertebrate/fish/ray/butterfly ray\"\n",
      "            },\n",
      "            {\n",
      "              \"class\": \"sea green color\",\n",
      "              \"score\": 0.967\n",
      "            },\n",
      "            {\n",
      "              \"class\": \"gray color\",\n",
      "              \"score\": 0.787\n",
      "            }\n",
      "          ]\n",
      "        },\n",
      "        {\n",
      "          \"classifier_id\": \"Batoidea_550385256\",\n",
      "          \"name\": \"Batoidea\",\n",
      "          \"classes\": [\n",
      "            {\n",
      "              \"class\": \"stingray\",\n",
      "              \"score\": 0.902\n",
      "            }\n",
      "          ]\n",
      "        }\n",
      "      ],\n",
      "      \"source_url\": \"https://external-content.duckduckgo.com/iu/?u=https%3A%2F%2Fmedia.buzzle.com%2Fmedia%2Fimages-en%2Fgallery%2Ffish%2F1200-55844925-stingray-grand-cayman-island.jpg&f=1&nofb=1\",\n",
      "      \"resolved_url\": \"https://external-content.duckduckgo.com/iu/?u=https%3A%2F%2Fmedia.buzzle.com%2Fmedia%2Fimages-en%2Fgallery%2Ffish%2F1200-55844925-stingray-grand-cayman-island.jpg&f=1&nofb=1\"\n",
      "    }\n",
      "  ],\n",
      "  \"images_processed\": 1,\n",
      "  \"custom_classes\": 2\n",
      "}\n"
     ]
    }
   ],
   "source": [
    "nice_classify('https://external-content.duckduckgo.com/iu/?u=https%3A%2F%2Fmedia.buzzle.com%2Fmedia%2Fimages-en%2Fgallery%2Ffish%2F1200-55844925-stingray-grand-cayman-island.jpg&f=1&nofb=1', ['default', 'Batoidea_550385256'])"
   ]
  },
  {
   "cell_type": "code",
   "execution_count": null,
   "metadata": {},
   "outputs": [],
   "source": []
  },
  {
   "cell_type": "code",
   "execution_count": null,
   "metadata": {},
   "outputs": [],
   "source": []
  },
  {
   "cell_type": "markdown",
   "metadata": {},
   "source": [
    "# Text to Speech"
   ]
  },
  {
   "cell_type": "code",
   "execution_count": null,
   "metadata": {},
   "outputs": [],
   "source": [
    "from ibm_watson import TextToSpeechV1"
   ]
  },
  {
   "cell_type": "code",
   "execution_count": null,
   "metadata": {},
   "outputs": [],
   "source": [
    "TTSauthenticator = IAMAuthenticator('jSnMxbNInJ2grxO1hUifi7JQ7Ivfc4Qccji0fXC08cJD')\n",
    "text_to_speech = TextToSpeechV1(\n",
    "    authenticator = TTSauthenticator\n",
    ")\n",
    "\n",
    "text_to_speech.set_service_url('https://gateway-lon.watsonplatform.net/text-to-speech/api')"
   ]
  },
  {
   "cell_type": "markdown",
   "metadata": {},
   "source": [
    "## List Voices"
   ]
  },
  {
   "cell_type": "code",
   "execution_count": null,
   "metadata": {},
   "outputs": [],
   "source": [
    "voices = text_to_speech.list_voices().get_result()"
   ]
  },
  {
   "cell_type": "code",
   "execution_count": null,
   "metadata": {},
   "outputs": [],
   "source": [
    "print(json.dumps(voices, indent=2))"
   ]
  },
  {
   "cell_type": "markdown",
   "metadata": {},
   "source": [
    "## Synthesise Voice"
   ]
  },
  {
   "cell_type": "code",
   "execution_count": null,
   "metadata": {},
   "outputs": [],
   "source": [
    "synthesis = text_to_speech.synthesize(\n",
    "    text = 'Buenos dias amigos. Como estas?',\n",
    "    voice = 'es-ES_EnriqueV3Voice',\n",
    "    accept='audio/wav'\n",
    ").get_result()"
   ]
  },
  {
   "cell_type": "code",
   "execution_count": null,
   "metadata": {},
   "outputs": [],
   "source": [
    "synthesis"
   ]
  },
  {
   "cell_type": "code",
   "execution_count": null,
   "metadata": {},
   "outputs": [],
   "source": [
    "with open('Test.wav', 'wb') as audio_test:\n",
    "    audio_test.write(synthesis.content)"
   ]
  },
  {
   "cell_type": "code",
   "execution_count": null,
   "metadata": {},
   "outputs": [],
   "source": []
  }
 ],
 "metadata": {
  "kernelspec": {
   "display_name": "Python 3",
   "language": "python",
   "name": "python3"
  },
  "language_info": {
   "codemirror_mode": {
    "name": "ipython",
    "version": 3
   },
   "file_extension": ".py",
   "mimetype": "text/x-python",
   "name": "python",
   "nbconvert_exporter": "python",
   "pygments_lexer": "ipython3",
   "version": "3.7.8"
  }
 },
 "nbformat": 4,
 "nbformat_minor": 4
}
